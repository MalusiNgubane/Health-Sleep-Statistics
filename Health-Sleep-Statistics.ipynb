{
 "cells": [
  {
   "cell_type": "markdown",
   "id": "f21c62da-1b10-43ec-bef1-83b2d1709fea",
   "metadata": {},
   "source": [
    "# Health-Sleep-Statistics"
   ]
  },
  {
   "cell_type": "markdown",
   "id": "6cb57c03-6ee1-4bb6-b4d7-339c597e9c5a",
   "metadata": {},
   "source": [
    "![Sleep Infographic](./Sleep-Infographic-700x700.jpg)\n"
   ]
  },
  {
   "cell_type": "markdown",
   "id": "5d8ef99c-da18-4ac8-b1e9-5ecdf39e3962",
   "metadata": {},
   "source": [
    "### Github : https://github.com/MalusiNgubane/Health-Sleep-Statistics"
   ]
  },
  {
   "cell_type": "markdown",
   "id": "f5c03dc1-ee12-483e-bf1b-35abbf5645de",
   "metadata": {},
   "source": [
    "<a id=\"cont></a>\"\n",
    "\n",
    "## Table of Contents\n",
    "\n",
    "* [1. Project Overview](#chapter1)\n",
    "  * [1.1 Introduction](#section_1_1)\n",
    "      * [1.1.1 Problem Statement](#sub_section_1_1_1)\n",
    "      * [1.1.2 Aim](#sub_section_1_1_2)\n",
    "      * [1.1.3 Objectives](#sub_section_1_1_3)      \n",
    "* [2. Importing Packages](#chapter2)\n",
    "* [3. Loading Data](#chapter3)\n",
    "* [4. Data Cleaning](#chapter4)\n",
    "* [5. Preprocessing Steps](#chapter5)"
   ]
  },
  {
   "cell_type": "markdown",
   "id": "b4e10ae7-1902-4be9-b706-073bf2aeaa93",
   "metadata": {},
   "source": [
    "# <font color=red>1. Project Overview</font>\n",
    "\n",
    "As a team, we have been instructed to choose a topic or a dataset (NOT BOTH) and compile our thoughts We have decided to choose a dataset on which we will present our analysis.\n",
    "\n",
    "## 1.1 Introduction\n",
    "\n",
    "leep and physical activity are critical components of human health and well-being. They significantly influence not only physical health but also cognitive function, emotional well-being, and overall quality of life. The Health and Sleep Statistics dataset provides a comprehensive overview of individuals' sleep habits, physical activity levels, and associated factors. This fictional dataset includes key indicators such as sleep quality, bedtime, wake-up time, daily steps, dietary habits, and the presence of sleep disorders. Analyzing these factors will help us better understand the relationships between sleep, physical activity, and health outcomes.\n",
    "\n",
    "In today's fast-paced world, understanding the patterns of sleep and physical activity is increasingly important for developing strategies to improve health and well-being. Using this dataset, we aim to draw actionable insights that can contribute to personalized health recommendations and better lifestyle choices.\n",
    "\n",
    "### 1.1.1 Problem Statement\n",
    "\n",
    "The Health and Sleep Statistics dataset provides a rich source of information about individuals’ sleep habits and physical activity. However, it is necessary to explore this data to uncover patterns and correlations between these lifestyle factors and their potential impact on overall health. This project aims to analyze the dataset to identify key trends and insights, ultimately providing recommendations for improving health outcomes through better sleep and physical activity management.\n",
    "\n",
    "Our project will focus on the following key questions:\n",
    "\n",
    "- How do factors such as age, gender, and physical activity levels influence sleep quality?\n",
    "- What is the relationship between sleep habits and physical activity, particularly in terms of daily steps and calories burned?\n",
    "- Are certain dietary habits or the presence of sleep disorders associated with poor sleep quality?\n",
    "- What role does medication usage play in improving sleep for those with sleep disorders?\n",
    "\n",
    "### 1.1. Aim\n",
    "\n",
    "To analyze and explore the Health and Sleep Statistics dataset, uncovering relationships between sleep quality, physical activity, and other health-related factors to provide actionable insights for improving individual health outcomes.\n",
    "\n",
    "### 1.1.3 Objectives\n",
    "\n",
    "#### Data Exploration and Cleaning:\n",
    "\n",
    "Perform exploratory data analysis (EDA) to understand the distribution of variables and identify any missing or erroneous data.\n",
    "Clean and preprocess the data for analysis by handling missing values, outliers, and formatting inconsistencies.\n",
    "\n",
    "#### Correlation Analysis:\n",
    "\n",
    "Investigate the relationships between sleep quality and other variables, such as physical activity level, dietary habits, and sleep disorders.\n",
    "Examine correlations between physical activity (steps, calories burned) and sleep patterns (bedtime, wake-up time).\n",
    "\n",
    "#### Impact of Demographics on Sleep and Activity:\n",
    "\n",
    "Analyze the effect of demographic factors (age, gender) on sleep quality and physical activity.\n",
    "Identify any trends or differences in sleep patterns across different age groups or genders.\n",
    "\n",
    "#### Predictive Modeling:\n",
    "\n",
    "Develop machine learning models to predict sleep quality based on other variables, such as physical activity level, dietary habits, and sleep disorders.\n",
    "Test the models' accuracy in identifying individuals at risk of poor sleep quality based on lifestyle factors.\n",
    "\n",
    "#### Health Recommendations:\n",
    "\n",
    "Based on the analysis, provide recommendations for improving sleep quality through adjustments in physical activity, diet, and lifestyle.\n",
    "Highlight key findings and insights that can guide future health-related research or interventions.\n",
    "This comprehensive approach will help identify the key drivers behind sleep quality and activity patterns, ultimately leading to data-driven health recommendations."
   ]
  },
  {
   "cell_type": "markdown",
   "id": "2194616f-8641-4b3b-901c-496c0f8c1c56",
   "metadata": {},
   "source": [
    "# <font color=red>2. Importing Packages</font>"
   ]
  },
  {
   "cell_type": "markdown",
   "id": "348e2903-906f-4208-8267-6ca761e39220",
   "metadata": {},
   "source": [
    "<div class=\"alert alert-block alert-info\">\n",
    "<b>Package Imports </b>  Package imports refer to the process of including external libraries and modules in your code. These packages provide additional functionality and tools that are not available in the standard library, enabling more efficient and effective coding for tasks such as data manipulation, visualization, and machine learning.\n",
    "</div>"
   ]
  },
  {
   "cell_type": "code",
   "execution_count": 112,
   "id": "2d8c6d3e-76e8-4c33-93b0-24283984a929",
   "metadata": {},
   "outputs": [],
   "source": [
    "# Importing necessary libraries\n",
    "import pandas as pd          # For data manipulation\n",
    "import numpy as np           # For numerical operations\n",
    "import seaborn as sns        # For data visualization\n",
    "import matplotlib.pyplot as plt  # For plotting"
   ]
  },
  {
   "cell_type": "markdown",
   "id": "e1bdb7a5-179a-47c0-930b-4e7aa6e09dc0",
   "metadata": {},
   "source": [
    "# <font color=red>3. Data Loading </font>"
   ]
  },
  {
   "cell_type": "markdown",
   "id": "a5cc2a45-183c-4359-af74-0a6badfd44cd",
   "metadata": {},
   "source": [
    "<div class=\"alert alert-block alert-info\">\n",
    "<b>Data Loading </b>  refers to the process of importing data into a workspace to make it ready for analysis. It involves reading data from various sources, such as files, databases, or APIs, and converting it into a format suitable for processing and analysis.\n",
    "</div>"
   ]
  },
  {
   "cell_type": "code",
   "execution_count": 2,
   "id": "9a0eadb2-e52e-421a-9199-62fc7ee148b3",
   "metadata": {},
   "outputs": [],
   "source": [
    "# Load the dataset\n",
    "# Reason: We start by loading the dataset to inspect its structure and contentsby creating a dataframe\n",
    "health_df = pd.read_csv(\"Health_Sleep_Statistics.csv\")"
   ]
  },
  {
   "cell_type": "code",
   "execution_count": 3,
   "id": "fd34ba18-e341-4b50-ad8d-6050fd25be49",
   "metadata": {},
   "outputs": [
    {
     "data": {
      "text/html": [
       "<div>\n",
       "<style scoped>\n",
       "    .dataframe tbody tr th:only-of-type {\n",
       "        vertical-align: middle;\n",
       "    }\n",
       "\n",
       "    .dataframe tbody tr th {\n",
       "        vertical-align: top;\n",
       "    }\n",
       "\n",
       "    .dataframe thead th {\n",
       "        text-align: right;\n",
       "    }\n",
       "</style>\n",
       "<table border=\"1\" class=\"dataframe\">\n",
       "  <thead>\n",
       "    <tr style=\"text-align: right;\">\n",
       "      <th></th>\n",
       "      <th>User ID</th>\n",
       "      <th>Age</th>\n",
       "      <th>Gender</th>\n",
       "      <th>Sleep Quality</th>\n",
       "      <th>Bedtime</th>\n",
       "      <th>Wake-up Time</th>\n",
       "      <th>Daily Steps</th>\n",
       "      <th>Calories Burned</th>\n",
       "      <th>Physical Activity Level</th>\n",
       "      <th>Dietary Habits</th>\n",
       "      <th>Sleep Disorders</th>\n",
       "      <th>Medication Usage</th>\n",
       "    </tr>\n",
       "  </thead>\n",
       "  <tbody>\n",
       "    <tr>\n",
       "      <th>0</th>\n",
       "      <td>1</td>\n",
       "      <td>25</td>\n",
       "      <td>f</td>\n",
       "      <td>8</td>\n",
       "      <td>23:00</td>\n",
       "      <td>06:30</td>\n",
       "      <td>8000</td>\n",
       "      <td>2500</td>\n",
       "      <td>medium</td>\n",
       "      <td>healthy</td>\n",
       "      <td>no</td>\n",
       "      <td>no</td>\n",
       "    </tr>\n",
       "    <tr>\n",
       "      <th>1</th>\n",
       "      <td>2</td>\n",
       "      <td>34</td>\n",
       "      <td>m</td>\n",
       "      <td>7</td>\n",
       "      <td>00:30</td>\n",
       "      <td>07:00</td>\n",
       "      <td>5000</td>\n",
       "      <td>2200</td>\n",
       "      <td>low</td>\n",
       "      <td>unhealthy</td>\n",
       "      <td>yes</td>\n",
       "      <td>yes</td>\n",
       "    </tr>\n",
       "    <tr>\n",
       "      <th>2</th>\n",
       "      <td>3</td>\n",
       "      <td>29</td>\n",
       "      <td>f</td>\n",
       "      <td>9</td>\n",
       "      <td>22:45</td>\n",
       "      <td>06:45</td>\n",
       "      <td>9000</td>\n",
       "      <td>2700</td>\n",
       "      <td>high</td>\n",
       "      <td>healthy</td>\n",
       "      <td>no</td>\n",
       "      <td>no</td>\n",
       "    </tr>\n",
       "    <tr>\n",
       "      <th>3</th>\n",
       "      <td>4</td>\n",
       "      <td>41</td>\n",
       "      <td>m</td>\n",
       "      <td>5</td>\n",
       "      <td>01:00</td>\n",
       "      <td>06:30</td>\n",
       "      <td>4000</td>\n",
       "      <td>2100</td>\n",
       "      <td>low</td>\n",
       "      <td>unhealthy</td>\n",
       "      <td>yes</td>\n",
       "      <td>no</td>\n",
       "    </tr>\n",
       "    <tr>\n",
       "      <th>4</th>\n",
       "      <td>5</td>\n",
       "      <td>22</td>\n",
       "      <td>f</td>\n",
       "      <td>8</td>\n",
       "      <td>23:30</td>\n",
       "      <td>07:00</td>\n",
       "      <td>10000</td>\n",
       "      <td>2800</td>\n",
       "      <td>high</td>\n",
       "      <td>medium</td>\n",
       "      <td>no</td>\n",
       "      <td>no</td>\n",
       "    </tr>\n",
       "  </tbody>\n",
       "</table>\n",
       "</div>"
      ],
      "text/plain": [
       "   User ID  Age Gender  Sleep Quality Bedtime Wake-up Time  Daily Steps  \\\n",
       "0        1   25      f              8   23:00        06:30         8000   \n",
       "1        2   34      m              7   00:30        07:00         5000   \n",
       "2        3   29      f              9   22:45        06:45         9000   \n",
       "3        4   41      m              5   01:00        06:30         4000   \n",
       "4        5   22      f              8   23:30        07:00        10000   \n",
       "\n",
       "   Calories Burned Physical Activity Level Dietary Habits Sleep Disorders  \\\n",
       "0             2500                  medium        healthy              no   \n",
       "1             2200                     low      unhealthy             yes   \n",
       "2             2700                    high        healthy              no   \n",
       "3             2100                     low      unhealthy             yes   \n",
       "4             2800                    high         medium              no   \n",
       "\n",
       "  Medication Usage  \n",
       "0               no  \n",
       "1              yes  \n",
       "2               no  \n",
       "3               no  \n",
       "4               no  "
      ]
     },
     "execution_count": 3,
     "metadata": {},
     "output_type": "execute_result"
    }
   ],
   "source": [
    "# Reason: Get an initial understanding of the dataset.\n",
    "# Show the first few rows of the dataset\n",
    "health_df.head()"
   ]
  },
  {
   "cell_type": "markdown",
   "id": "6bb6ca11-91e2-41bd-a528-21febcc356d0",
   "metadata": {},
   "source": [
    "# <font color=red>4. Data Cleaning </font>"
   ]
  },
  {
   "cell_type": "markdown",
   "id": "576827d1-2734-4682-8cbe-6063025551de",
   "metadata": {},
   "source": [
    "<div class=\"alert alert-block alert-info\">\n",
    "<b>Data cleaning</b>  refers to the process of identifying and correcting errors, inconsistencies, and inaccuracies in a dataset to improve its quality and reliability for analysis. It involves several steps, including handling missing or incomplete data, correcting data format issues, removing duplicate records, and dealing with outliers or anomalies.\n",
    "</div>"
   ]
  },
  {
   "cell_type": "code",
   "execution_count": 4,
   "id": "d42abdc5-1967-48cb-9911-a42638599e0c",
   "metadata": {},
   "outputs": [
    {
     "name": "stdout",
     "output_type": "stream",
     "text": [
      "<class 'pandas.core.frame.DataFrame'>\n",
      "RangeIndex: 100 entries, 0 to 99\n",
      "Data columns (total 12 columns):\n",
      " #   Column                   Non-Null Count  Dtype \n",
      "---  ------                   --------------  ----- \n",
      " 0   User ID                  100 non-null    int64 \n",
      " 1   Age                      100 non-null    int64 \n",
      " 2   Gender                   100 non-null    object\n",
      " 3   Sleep Quality            100 non-null    int64 \n",
      " 4   Bedtime                  100 non-null    object\n",
      " 5   Wake-up Time             100 non-null    object\n",
      " 6   Daily Steps              100 non-null    int64 \n",
      " 7   Calories Burned          100 non-null    int64 \n",
      " 8   Physical Activity Level  100 non-null    object\n",
      " 9   Dietary Habits           100 non-null    object\n",
      " 10  Sleep Disorders          100 non-null    object\n",
      " 11  Medication Usage         100 non-null    object\n",
      "dtypes: int64(5), object(7)\n",
      "memory usage: 9.5+ KB\n"
     ]
    }
   ],
   "source": [
    "# Check the structure and data types of the dataset\n",
    "health_df.info()"
   ]
  },
  {
   "cell_type": "code",
   "execution_count": 5,
   "id": "6026301e-1630-45bd-99be-1711a89efa85",
   "metadata": {},
   "outputs": [
    {
     "data": {
      "text/html": [
       "<div>\n",
       "<style scoped>\n",
       "    .dataframe tbody tr th:only-of-type {\n",
       "        vertical-align: middle;\n",
       "    }\n",
       "\n",
       "    .dataframe tbody tr th {\n",
       "        vertical-align: top;\n",
       "    }\n",
       "\n",
       "    .dataframe thead th {\n",
       "        text-align: right;\n",
       "    }\n",
       "</style>\n",
       "<table border=\"1\" class=\"dataframe\">\n",
       "  <thead>\n",
       "    <tr style=\"text-align: right;\">\n",
       "      <th></th>\n",
       "      <th>User ID</th>\n",
       "      <th>Age</th>\n",
       "      <th>Sleep Quality</th>\n",
       "      <th>Daily Steps</th>\n",
       "      <th>Calories Burned</th>\n",
       "    </tr>\n",
       "  </thead>\n",
       "  <tbody>\n",
       "    <tr>\n",
       "      <th>count</th>\n",
       "      <td>100.000000</td>\n",
       "      <td>100.000000</td>\n",
       "      <td>100.000000</td>\n",
       "      <td>100.000000</td>\n",
       "      <td>100.00000</td>\n",
       "    </tr>\n",
       "    <tr>\n",
       "      <th>mean</th>\n",
       "      <td>50.500000</td>\n",
       "      <td>36.010000</td>\n",
       "      <td>7.000000</td>\n",
       "      <td>6830.000000</td>\n",
       "      <td>2421.00000</td>\n",
       "    </tr>\n",
       "    <tr>\n",
       "      <th>std</th>\n",
       "      <td>29.011492</td>\n",
       "      <td>8.454865</td>\n",
       "      <td>1.734964</td>\n",
       "      <td>2498.706736</td>\n",
       "      <td>281.06759</td>\n",
       "    </tr>\n",
       "    <tr>\n",
       "      <th>min</th>\n",
       "      <td>1.000000</td>\n",
       "      <td>22.000000</td>\n",
       "      <td>4.000000</td>\n",
       "      <td>3000.000000</td>\n",
       "      <td>2000.00000</td>\n",
       "    </tr>\n",
       "    <tr>\n",
       "      <th>25%</th>\n",
       "      <td>25.750000</td>\n",
       "      <td>28.750000</td>\n",
       "      <td>5.750000</td>\n",
       "      <td>4750.000000</td>\n",
       "      <td>2175.00000</td>\n",
       "    </tr>\n",
       "    <tr>\n",
       "      <th>50%</th>\n",
       "      <td>50.500000</td>\n",
       "      <td>35.000000</td>\n",
       "      <td>7.500000</td>\n",
       "      <td>6750.000000</td>\n",
       "      <td>2400.00000</td>\n",
       "    </tr>\n",
       "    <tr>\n",
       "      <th>75%</th>\n",
       "      <td>75.250000</td>\n",
       "      <td>44.000000</td>\n",
       "      <td>8.250000</td>\n",
       "      <td>9000.000000</td>\n",
       "      <td>2700.00000</td>\n",
       "    </tr>\n",
       "    <tr>\n",
       "      <th>max</th>\n",
       "      <td>100.000000</td>\n",
       "      <td>50.000000</td>\n",
       "      <td>9.000000</td>\n",
       "      <td>11000.000000</td>\n",
       "      <td>2900.00000</td>\n",
       "    </tr>\n",
       "  </tbody>\n",
       "</table>\n",
       "</div>"
      ],
      "text/plain": [
       "          User ID         Age  Sleep Quality   Daily Steps  Calories Burned\n",
       "count  100.000000  100.000000     100.000000    100.000000        100.00000\n",
       "mean    50.500000   36.010000       7.000000   6830.000000       2421.00000\n",
       "std     29.011492    8.454865       1.734964   2498.706736        281.06759\n",
       "min      1.000000   22.000000       4.000000   3000.000000       2000.00000\n",
       "25%     25.750000   28.750000       5.750000   4750.000000       2175.00000\n",
       "50%     50.500000   35.000000       7.500000   6750.000000       2400.00000\n",
       "75%     75.250000   44.000000       8.250000   9000.000000       2700.00000\n",
       "max    100.000000   50.000000       9.000000  11000.000000       2900.00000"
      ]
     },
     "execution_count": 5,
     "metadata": {},
     "output_type": "execute_result"
    }
   ],
   "source": [
    "# Summary statistics for numerical columns\n",
    "health_df.describe()"
   ]
  },
  {
   "cell_type": "code",
   "execution_count": 6,
   "id": "57bbf6d1-7e3c-419a-b962-2f28a22a8272",
   "metadata": {},
   "outputs": [
    {
     "data": {
      "image/png": "[encoded data removed]",
      "text/plain": [
       "<Figure size 640x480 with 1 Axes>"
      ]
     },
     "metadata": {},
     "output_type": "display_data"
    }
   ],
   "source": [
    "# Step 2: Checking for Missing Data\n",
    "# Reason: Identify missing values that need to be handled during cleaning.\n",
    "# If missing values exist, decide on appropriate strategies (e.g., filling or dropping).\n",
    "\n",
    "# Visualize missing data with a heatmap\n",
    "sns.heatmap(health_df.isnull(), cbar=False, cmap='viridis')\n",
    "plt.title(\"Missing Data Heatmap\")\n",
    "plt.show()\n"
   ]
  },
  {
   "cell_type": "markdown",
   "id": "10325992-72dc-4309-b231-39a4643eecb8",
   "metadata": {},
   "source": [
    "### Analysis:\n",
    "Based on the above heatmap, we can claerly see that there are no changes in colour on the heatmap, which indicates no missing values ."
   ]
  },
  {
   "cell_type": "code",
   "execution_count": 7,
   "id": "e60cd0c6-691b-4437-a612-4b67dfecbbfd",
   "metadata": {},
   "outputs": [
    {
     "data": {
      "text/plain": [
       "User ID                    0\n",
       "Age                        0\n",
       "Gender                     0\n",
       "Sleep Quality              0\n",
       "Bedtime                    0\n",
       "Wake-up Time               0\n",
       "Daily Steps                0\n",
       "Calories Burned            0\n",
       "Physical Activity Level    0\n",
       "Dietary Habits             0\n",
       "Sleep Disorders            0\n",
       "Medication Usage           0\n",
       "dtype: int64"
      ]
     },
     "execution_count": 7,
     "metadata": {},
     "output_type": "execute_result"
    }
   ],
   "source": [
    "# Count of missing values in each column to double check the heatmap results \n",
    "health_df.isnull().sum()"
   ]
  },
  {
   "cell_type": "code",
   "execution_count": 8,
   "id": "a5e4d886-4b28-4d51-8324-2a6d64d5b5b4",
   "metadata": {},
   "outputs": [],
   "source": [
    "# Step 4: Handling Outliers\n",
    "# Reason: Outliers can distort the results. We'll detect and handle them using statistical methods like IQR.\n",
    "\n",
    "# Define a function to detect outliers using the Interquartile Range (IQR)\n",
    "def detect_outliers(col):\n",
    "    Q1 = health_df[col].quantile(0.25)\n",
    "    Q3 = health_df[col].quantile(0.75)\n",
    "    IQR = Q3 - Q1\n",
    "    lower_bound = Q1 - 1.5 * IQR\n",
    "    upper_bound = Q3 + 1.5 * IQR\n",
    "    return health_df[(health_df[col] < lower_bound) | (health_df[col] > upper_bound)]"
   ]
  },
  {
   "cell_type": "code",
   "execution_count": 9,
   "id": "5d7ea620-0eda-4216-ab92-0ee2d954cdf4",
   "metadata": {},
   "outputs": [],
   "source": [
    "# Detect outliers in the 'Daily Steps' and 'Calories Burned' columns\n",
    "outliers_steps = detect_outliers('Daily Steps')\n",
    "outliers_calories = detect_outliers('Calories Burned')"
   ]
  },
  {
   "cell_type": "code",
   "execution_count": 10,
   "id": "2467ae82-fbb8-492d-bc62-28e24cd84db4",
   "metadata": {},
   "outputs": [
    {
     "name": "stdout",
     "output_type": "stream",
     "text": [
      "Number of outliers in 'Daily Steps': 0\n",
      "Number of outliers in 'Calories Burned': 0\n"
     ]
    }
   ],
   "source": [
    "# Reason: Optionally, remove outliers if they seem to be data errors. \n",
    "# For now, we'll keep them to understand their impact in the analysis phase.\n",
    "# Display number of outliers detected\n",
    "print(f\"Number of outliers in 'Daily Steps': {len(outliers_steps)}\")\n",
    "print(f\"Number of outliers in 'Calories Burned': {len(outliers_calories)}\")"
   ]
  },
  {
   "cell_type": "code",
   "execution_count": 11,
   "id": "c93a4c2d-97a8-4343-b3ed-2798d8004134",
   "metadata": {},
   "outputs": [],
   "source": [
    "# Convert 'Bedtime' and 'Wake-up Time' from 24-hour format to hours since midnight (numerical values)\n",
    "# Converted 'Bedtime' and 'Wake-up Time' to numeric: This allows you to process these time-based features for scaling and modeling\n",
    "health_df['Bedtime'] = pd.to_datetime(health_df['Bedtime'], format='%H:%M').dt.hour + pd.to_datetime(health_df['Bedtime'], format='%H:%M').dt.minute / 60\n",
    "health_df['Wake-up Time'] = pd.to_datetime(health_df['Wake-up Time'], format='%H:%M').dt.hour + pd.to_datetime(health_df['Wake-up Time'], format='%H:%M').dt.minute / 60\n"
   ]
  },
  {
   "cell_type": "code",
   "execution_count": 12,
   "id": "804e5692-7540-4785-a4d9-b5e871609d97",
   "metadata": {},
   "outputs": [
    {
     "name": "stdout",
     "output_type": "stream",
     "text": [
      "0     23.0\n",
      "1      0.5\n",
      "2    22.75\n",
      "3      1.0\n",
      "4     23.5\n",
      "Name: Bedtime, dtype: object\n",
      "0     6.5\n",
      "1     7.0\n",
      "2    6.75\n",
      "3     6.5\n",
      "4     7.0\n",
      "Name: Wake-up Time, dtype: object\n"
     ]
    }
   ],
   "source": [
    "# Print the first few rows of the raw 'Bedtime' and 'Wake-up Time' data to inspect the format before conversion\n",
    "print(health_df['Bedtime'].astype(str).head())\n",
    "print(health_df['Wake-up Time'].astype(str).head())\n"
   ]
  },
  {
   "cell_type": "code",
   "execution_count": 13,
   "id": "0b243ef4-20ae-439f-a9d6-4d0d52538f05",
   "metadata": {},
   "outputs": [
    {
     "name": "stdout",
     "output_type": "stream",
     "text": [
      "   Bedtime  Wake-up Time  Sleep Duration\n",
      "0    23.00          6.50             7.5\n",
      "1     0.50          7.00             6.5\n",
      "2    22.75          6.75             8.0\n",
      "3     1.00          6.50             5.5\n",
      "4    23.50          7.00             7.5\n"
     ]
    }
   ],
   "source": [
    "# Calculate sleep duration in hours\n",
    "# If wake-up time is earlier than bedtime, add 24 hours to wake-up time to account for overnight sleep\n",
    "health_df['Sleep Duration'] = health_df['Wake-up Time'] - health_df['Bedtime']\n",
    "health_df['Sleep Duration'] = health_df['Sleep Duration'].apply(lambda x: x + 24 if x < 0 else x)\n",
    "\n",
    "# Check the results\n",
    "print(health_df[['Bedtime', 'Wake-up Time', 'Sleep Duration']].head())\n"
   ]
  },
  {
   "cell_type": "code",
   "execution_count": 14,
   "id": "36953b67-422e-4623-a41b-c4d11bbce01a",
   "metadata": {},
   "outputs": [
    {
     "name": "stdout",
     "output_type": "stream",
     "text": [
      "Index(['User ID', 'Age', 'Gender', 'Sleep Quality', 'Bedtime', 'Wake-up Time',\n",
      "       'Daily Steps', 'Calories Burned', 'Physical Activity Level',\n",
      "       'Dietary Habits', 'Sleep Disorders', 'Medication Usage',\n",
      "       'Sleep Duration'],\n",
      "      dtype='object')\n"
     ]
    }
   ],
   "source": [
    "# Check the current column names\n",
    "print(health_df.columns)\n"
   ]
  },
  {
   "cell_type": "code",
   "execution_count": 15,
   "id": "62eb15ac-f353-4a87-a850-09f0de2048a4",
   "metadata": {},
   "outputs": [
    {
     "name": "stdout",
     "output_type": "stream",
     "text": [
      "   User ID  Age Gender  Sleep Quality  Bedtime  Wake-up Time  Daily Steps  \\\n",
      "0        1   25      f              8    23.00          6.50         8000   \n",
      "1        2   34      m              7     0.50          7.00         5000   \n",
      "2        3   29      f              9    22.75          6.75         9000   \n",
      "3        4   41      m              5     1.00          6.50         4000   \n",
      "4        5   22      f              8    23.50          7.00        10000   \n",
      "\n",
      "   Calories Burned Physical Activity Level Dietary Habits Sleep Disorders  \\\n",
      "0             2500                  medium        healthy              no   \n",
      "1             2200                     low      unhealthy             yes   \n",
      "2             2700                    high        healthy              no   \n",
      "3             2100                     low      unhealthy             yes   \n",
      "4             2800                    high         medium              no   \n",
      "\n",
      "  Medication Usage  Sleep Duration  \n",
      "0               no             7.5  \n",
      "1              yes             6.5  \n",
      "2               no             8.0  \n",
      "3               no             5.5  \n",
      "4               no             7.5  \n"
     ]
    }
   ],
   "source": [
    "# Check the DataFrame to ensure the one-hot encoding is in place\n",
    "print(health_df.head())\n"
   ]
  },
  {
   "cell_type": "code",
   "execution_count": 16,
   "id": "5a097d1b-92c5-470a-9ed9-89ed6f9296ea",
   "metadata": {},
   "outputs": [
    {
     "data": {
      "image/png": "[encoded data removed]",
      "text/plain": [
       "<Figure size 1200x800 with 2 Axes>"
      ]
     },
     "metadata": {},
     "output_type": "display_data"
    }
   ],
   "source": [
    "import seaborn as sns\n",
    "import matplotlib.pyplot as plt\n",
    "\n",
    "# Drop non-numeric columns to avoid conversion errors\n",
    "numeric_health_df = health_df.select_dtypes(include=['float64', 'int64'])\n",
    "\n",
    "# Plot a heatmap to visualize correlations of numeric features only\n",
    "plt.figure(figsize=(12, 8))\n",
    "sns.heatmap(numeric_health_df.corr(), annot=True, cmap='coolwarm', linewidths=0.5)\n",
    "plt.title(\"Correlation Matrix of Health and Sleep Statistics\")\n",
    "plt.show()\n"
   ]
  },
  {
   "cell_type": "code",
   "execution_count": 17,
   "id": "43f709cd-b8b9-4737-afee-fab025c40902",
   "metadata": {},
   "outputs": [
    {
     "name": "stdout",
     "output_type": "stream",
     "text": [
      "<class 'pandas.core.frame.DataFrame'>\n",
      "RangeIndex: 100 entries, 0 to 99\n",
      "Data columns (total 13 columns):\n",
      " #   Column                   Non-Null Count  Dtype  \n",
      "---  ------                   --------------  -----  \n",
      " 0   User ID                  100 non-null    int64  \n",
      " 1   Age                      100 non-null    int64  \n",
      " 2   Gender                   100 non-null    object \n",
      " 3   Sleep Quality            100 non-null    int64  \n",
      " 4   Bedtime                  100 non-null    float64\n",
      " 5   Wake-up Time             100 non-null    float64\n",
      " 6   Daily Steps              100 non-null    int64  \n",
      " 7   Calories Burned          100 non-null    int64  \n",
      " 8   Physical Activity Level  100 non-null    object \n",
      " 9   Dietary Habits           100 non-null    object \n",
      " 10  Sleep Disorders          100 non-null    object \n",
      " 11  Medication Usage         100 non-null    object \n",
      " 12  Sleep Duration           100 non-null    float64\n",
      "dtypes: float64(3), int64(5), object(5)\n",
      "memory usage: 10.3+ KB\n"
     ]
    },
    {
     "data": {
      "text/html": [
       "<div>\n",
       "<style scoped>\n",
       "    .dataframe tbody tr th:only-of-type {\n",
       "        vertical-align: middle;\n",
       "    }\n",
       "\n",
       "    .dataframe tbody tr th {\n",
       "        vertical-align: top;\n",
       "    }\n",
       "\n",
       "    .dataframe thead th {\n",
       "        text-align: right;\n",
       "    }\n",
       "</style>\n",
       "<table border=\"1\" class=\"dataframe\">\n",
       "  <thead>\n",
       "    <tr style=\"text-align: right;\">\n",
       "      <th></th>\n",
       "      <th>User ID</th>\n",
       "      <th>Age</th>\n",
       "      <th>Sleep Quality</th>\n",
       "      <th>Bedtime</th>\n",
       "      <th>Wake-up Time</th>\n",
       "      <th>Daily Steps</th>\n",
       "      <th>Calories Burned</th>\n",
       "      <th>Sleep Duration</th>\n",
       "    </tr>\n",
       "  </thead>\n",
       "  <tbody>\n",
       "    <tr>\n",
       "      <th>count</th>\n",
       "      <td>100.000000</td>\n",
       "      <td>100.000000</td>\n",
       "      <td>100.000000</td>\n",
       "      <td>100.000000</td>\n",
       "      <td>100.000000</td>\n",
       "      <td>100.000000</td>\n",
       "      <td>100.00000</td>\n",
       "      <td>100.000000</td>\n",
       "    </tr>\n",
       "    <tr>\n",
       "      <th>mean</th>\n",
       "      <td>50.500000</td>\n",
       "      <td>36.010000</td>\n",
       "      <td>7.000000</td>\n",
       "      <td>11.867500</td>\n",
       "      <td>6.860000</td>\n",
       "      <td>6830.000000</td>\n",
       "      <td>2421.00000</td>\n",
       "      <td>6.992500</td>\n",
       "    </tr>\n",
       "    <tr>\n",
       "      <th>std</th>\n",
       "      <td>29.011492</td>\n",
       "      <td>8.454865</td>\n",
       "      <td>1.734964</td>\n",
       "      <td>11.001863</td>\n",
       "      <td>0.449916</td>\n",
       "      <td>2498.706736</td>\n",
       "      <td>281.06759</td>\n",
       "      <td>1.164205</td>\n",
       "    </tr>\n",
       "    <tr>\n",
       "      <th>min</th>\n",
       "      <td>1.000000</td>\n",
       "      <td>22.000000</td>\n",
       "      <td>4.000000</td>\n",
       "      <td>0.250000</td>\n",
       "      <td>6.000000</td>\n",
       "      <td>3000.000000</td>\n",
       "      <td>2000.00000</td>\n",
       "      <td>4.500000</td>\n",
       "    </tr>\n",
       "    <tr>\n",
       "      <th>25%</th>\n",
       "      <td>25.750000</td>\n",
       "      <td>28.750000</td>\n",
       "      <td>5.750000</td>\n",
       "      <td>0.937500</td>\n",
       "      <td>6.500000</td>\n",
       "      <td>4750.000000</td>\n",
       "      <td>2175.00000</td>\n",
       "      <td>6.437500</td>\n",
       "    </tr>\n",
       "    <tr>\n",
       "      <th>50%</th>\n",
       "      <td>50.500000</td>\n",
       "      <td>35.000000</td>\n",
       "      <td>7.500000</td>\n",
       "      <td>11.750000</td>\n",
       "      <td>7.000000</td>\n",
       "      <td>6750.000000</td>\n",
       "      <td>2400.00000</td>\n",
       "      <td>7.000000</td>\n",
       "    </tr>\n",
       "    <tr>\n",
       "      <th>75%</th>\n",
       "      <td>75.250000</td>\n",
       "      <td>44.000000</td>\n",
       "      <td>8.250000</td>\n",
       "      <td>22.812500</td>\n",
       "      <td>7.062500</td>\n",
       "      <td>9000.000000</td>\n",
       "      <td>2700.00000</td>\n",
       "      <td>8.000000</td>\n",
       "    </tr>\n",
       "    <tr>\n",
       "      <th>max</th>\n",
       "      <td>100.000000</td>\n",
       "      <td>50.000000</td>\n",
       "      <td>9.000000</td>\n",
       "      <td>23.750000</td>\n",
       "      <td>7.500000</td>\n",
       "      <td>11000.000000</td>\n",
       "      <td>2900.00000</td>\n",
       "      <td>9.000000</td>\n",
       "    </tr>\n",
       "  </tbody>\n",
       "</table>\n",
       "</div>"
      ],
      "text/plain": [
       "          User ID         Age  Sleep Quality     Bedtime  Wake-up Time  \\\n",
       "count  100.000000  100.000000     100.000000  100.000000    100.000000   \n",
       "mean    50.500000   36.010000       7.000000   11.867500      6.860000   \n",
       "std     29.011492    8.454865       1.734964   11.001863      0.449916   \n",
       "min      1.000000   22.000000       4.000000    0.250000      6.000000   \n",
       "25%     25.750000   28.750000       5.750000    0.937500      6.500000   \n",
       "50%     50.500000   35.000000       7.500000   11.750000      7.000000   \n",
       "75%     75.250000   44.000000       8.250000   22.812500      7.062500   \n",
       "max    100.000000   50.000000       9.000000   23.750000      7.500000   \n",
       "\n",
       "        Daily Steps  Calories Burned  Sleep Duration  \n",
       "count    100.000000        100.00000      100.000000  \n",
       "mean    6830.000000       2421.00000        6.992500  \n",
       "std     2498.706736        281.06759        1.164205  \n",
       "min     3000.000000       2000.00000        4.500000  \n",
       "25%     4750.000000       2175.00000        6.437500  \n",
       "50%     6750.000000       2400.00000        7.000000  \n",
       "75%     9000.000000       2700.00000        8.000000  \n",
       "max    11000.000000       2900.00000        9.000000  "
      ]
     },
     "execution_count": 17,
     "metadata": {},
     "output_type": "execute_result"
    }
   ],
   "source": [
    "# Summary of the cleaned data\n",
    "# Reason: After cleaning, let's summarize the cleaned data.\n",
    "health_df.info()\n",
    "health_df.describe()"
   ]
  },
  {
   "cell_type": "code",
   "execution_count": 18,
   "id": "1ec4f817-d59d-4adc-906d-b30828079b86",
   "metadata": {},
   "outputs": [],
   "source": [
    "# Save the cleaned dataset for future use\n",
    "health_df.to_csv(\"Cleaned_Health_Sleep_Statistics.csv\", index=False)"
   ]
  },
  {
   "cell_type": "markdown",
   "id": "c2a70e8b-321f-450b-aad0-30029f42551f",
   "metadata": {},
   "source": [
    "# <font color=red>5. Exploratory Data Analysis (EDA) </font>"
   ]
  },
  {
   "cell_type": "markdown",
   "id": "5dcaeb72-e815-4450-807d-3f3d08d39f23",
   "metadata": {},
   "source": [
    "### *Distribution of Sleep Quality*\n",
    "This step visualizes the distribution of sleep quality, which is critical for understanding how many people have poor, average, or good sleep quality.\n",
    "*Reason*: This helps us see how balanced or skewed the dataset is in terms of sleep quality."
   ]
  },
  {
   "cell_type": "code",
   "execution_count": 19,
   "id": "8aaa5e73-90ac-4fde-95ce-893a7bcd69ad",
   "metadata": {},
   "outputs": [
    {
     "data": {
      "image/png": "[encoded data removed]",
      "text/plain": [
       "<Figure size 1000x600 with 1 Axes>"
      ]
     },
     "metadata": {},
     "output_type": "display_data"
    }
   ],
   "source": [
    "import seaborn as sns\n",
    "import matplotlib.pyplot as plt\n",
    "\n",
    "plt.figure(figsize=(10,6))\n",
    "sns.histplot(health_df['Sleep Quality'], kde=True, color='blue')\n",
    "plt.title('Distribution of Sleep Quality')\n",
    "plt.xlabel('Sleep Quality')\n",
    "plt.ylabel('Frequency')\n",
    "plt.show()\n"
   ]
  },
  {
   "cell_type": "markdown",
   "id": "538fc451-0fd0-4d3e-b811-d0c0834f1323",
   "metadata": {},
   "source": [
    "#### Analysis\n",
    "**Sleep Quality Distribution:**\n",
    "\n",
    "The histogram shows the distribution of sleep quality ratings on a scale from 4 to 9.\n",
    "\n",
    "**Key observations:**\n",
    "\n",
    "The distribution is bimodal, with peaks at the higher end (8-9) and in the middle range (5-6).\n",
    "There's a significant spike in frequency for sleep quality ratings of 8 and 9, indicating that a large portion of the sample reports high-quality sleep.\n",
    "There's a relatively consistent frequency for sleep quality ratings between 4 and 7, with a slight dip at 6.\n",
    "The overall trend suggests that most individuals in the sample report good to excellent sleep quality, with fewer reporting poor sleep quality.\n",
    "\n",
    "**This distribution might indicate the following:**\n",
    "\n",
    "Generally positive sleep experiences among the sampled population.\n",
    "Possible polarization in sleep quality, with some individuals consistently experiencing high-quality sleep while others face challenges\n",
    "\n"
   ]
  },
  {
   "cell_type": "markdown",
   "id": "36c6e1d4-d18a-4df9-958d-5de2c8ea2f35",
   "metadata": {},
   "source": [
    "### *Distribution of Bedtime and Wake-Up Time*\n",
    "We explore how bedtime and wake-up times are distributed. These variables are central to understanding sleep habits.\n",
    "*Reason*: Visualizing bedtimes and wake-up times helps us identify any outliers (e.g., people with unusual sleep schedules) and trends."
   ]
  },
  {
   "cell_type": "code",
   "execution_count": 20,
   "id": "7905ed44-ddc3-4e68-bd75-7091cabd1450",
   "metadata": {},
   "outputs": [
    {
     "data": {
      "image/png": "[encoded data removed]",
      "text/plain": [
       "<Figure size 1400x600 with 2 Axes>"
      ]
     },
     "metadata": {},
     "output_type": "display_data"
    }
   ],
   "source": [
    "plt.figure(figsize=(14,6))\n",
    "\n",
    "# Plotting bedtime\n",
    "plt.subplot(1, 2, 1)\n",
    "sns.histplot(health_df['Bedtime'], kde=True, color='green')\n",
    "plt.title('Distribution of Bedtime')\n",
    "plt.xlabel('Bedtime')\n",
    "plt.ylabel('Frequency')\n",
    "\n",
    "# Plotting wake-up time\n",
    "plt.subplot(1, 2, 2)\n",
    "sns.histplot(health_df['Wake-up Time'], kde=True, color='orange')\n",
    "plt.title('Distribution of Wake-up Time')\n",
    "plt.xlabel('Wake-up Time')\n",
    "plt.ylabel('Frequency')\n",
    "\n",
    "plt.tight_layout()\n",
    "plt.show()\n"
   ]
  },
  {
   "cell_type": "markdown",
   "id": "e21e80f1-a245-4f5c-b2af-4d89159086b4",
   "metadata": {},
   "source": [
    "#### Analysis\n",
    "**Bedtime Distribution:**\n",
    "\n",
    "The histogram shows the distribution of bedtimes from around 22:15 to 02:45.\n",
    "\n",
    "**Key observations:**\n",
    "\n",
    "The distribution is multimodal, with several peaks throughout the evening and early morning hours.\n",
    "There are notable peaks around 23:00, 00:30, and 01:30.\n",
    "The frequency decreases sharply after 02:00, indicating fewer late-night sleepers.\n",
    "\n",
    "**This distribution suggests:**\n",
    "\n",
    "Varied sleep schedules among the population\n",
    "Potential influences of work schedules, personal preferences, or lifestyle factors on bedtime\n",
    "A tendency for most individuals to go to bed before 02:00\n",
    "\n",
    "\n",
    "**Wake-up Time Distribution:**\n",
    "\n",
    "The histogram shows the distribution of wake-up times from 06:00 to 07:30.\n",
    "\n",
    "**Key observations:**\n",
    "\n",
    "- There's a pronounced peak at 07:00, indicating this is the most common wake-up time.\n",
    "- The distribution is right-skewed, with more individuals waking up between 06:30 and 07:30 than earlier.\n",
    "- There are smaller peaks at 06:30 and 07:30, suggesting these are also popular wake-up times.\n",
    "\n",
    "**This distribution implies:**\n",
    "\n",
    "A concentration of wake-up times around 07:00, possibly influenced by work or school schedules\n",
    "Some variability in wake-up times, but within a relatively narrow range (1.5 hours)\n",
    "\n",
    "**Overall Analysis:**\n",
    "\n",
    "The data suggests a population with generally good sleep quality but varied sleep schedules. The bimodal distribution of sleep quality could indicate two distinct groups: those with consistently good sleep and those who may be struggling with sleep issues.\n",
    "\n",
    "The wide range of bedtimes contrasts with the more concentrated wake-up times, suggesting that social and work commitments may be influencing wake-up times more strongly than bedtimes. This could lead to varying amounts of sleep for different individuals, potentially affecting their overall sleep quality.\n",
    "\n",
    "The data could be useful for identifying patterns and potential interventions to improve sleep health. For example, focusing on factors that contribute to high sleep quality for those in the 8-9 range, or investigating reasons for the varied bedtimes and their impact on overall sleep quality and daily functioning."
   ]
  },
  {
   "cell_type": "markdown",
   "id": "9e06be9c-444a-4499-90de-656d8ace34a9",
   "metadata": {},
   "source": [
    "### *Correlation Matrix (Heatmap)*\n",
    "A correlation matrix will help us understand the relationships between numerical variables such as daily steps, calories burned, physical activity, and sleep quality.*Reason*: This helps identify which factors are strongly correlated with sleep quality. Positive or negative correlations might reveal which factors affect sleep positively or negatively."
   ]
  },
  {
   "cell_type": "markdown",
   "id": "614bc284-0724-4feb-98e2-499c3b557f3a",
   "metadata": {},
   "source": [
    "1. First, we will filter Numeric Columns: We can modify the code to filter out non-numeric columns before calculating the correlation matrix."
   ]
  },
  {
   "cell_type": "code",
   "execution_count": 21,
   "id": "3e8f0a00-2eb5-4f63-a48a-79204e81cfac",
   "metadata": {},
   "outputs": [
    {
     "data": {
      "image/png": "[encoded data removed]",
      "text/plain": [
       "<Figure size 1100x700 with 2 Axes>"
      ]
     },
     "metadata": {},
     "output_type": "display_data"
    }
   ],
   "source": [
    "# Select only numeric columns for the correlation matrix\n",
    "numeric_cols = health_df.select_dtypes(include=['float64', 'int64'])\n",
    "\n",
    "# Calculate correlation matrix on the numeric columns only\n",
    "corr = numeric_cols.corr()\n",
    "\n",
    "# Plotting the heatmap\n",
    "plt.figure(figsize=(11,7))\n",
    "sns.heatmap(corr, annot=True, cmap='coolwarm', linewidths=0.5)\n",
    "plt.title('Correlation Matrix')\n",
    "plt.show()\n"
   ]
  },
  {
   "cell_type": "markdown",
   "id": "a93210b6-5296-476b-91ca-003225e9edab",
   "metadata": {},
   "source": [
    "#### Analysis\n",
    "**Correlation Matrix:**\n",
    "\n",
    "The heatmap shows correlations between User ID, Age, Sleep Quality, Daily Steps, and Calories Burned.\n",
    "\n",
    "**Key observations:**\n",
    "\n",
    "There's a strong negative correlation (-0.85 to -0.87) between Age and Sleep Quality, Daily Steps, and Calories Burned. This suggests that as age increases, these factors tend to decrease significantly.\n",
    "Sleep Quality, Daily Steps, and Calories Burned are all very strongly positively correlated with each other (0.97 to 0.99). This indicates that these factors tend to increase or decrease together.\n",
    "User ID has negligible correlations with other variables, which is expected as it's just an identifier.\n",
    "\n",
    "**Implications:**\n",
    "\n",
    "The strong relationship between physical activity (steps and calories) and sleep quality suggests that increasing physical activity might improve sleep quality, or vice versa.\n",
    "The negative correlation with age highlights the importance of maintaining physical activity and addressing sleep issues as people get older."
   ]
  },
  {
   "cell_type": "markdown",
   "id": "88a94aa1-b7aa-4171-a033-d31c85f1f9b9",
   "metadata": {},
   "source": [
    "### *Physical Activity Level and Sleep Quality*\n",
    "This visualization shows the relationship between physical activity levels and sleep quality.*Reason*: To explore if higher physical activity levels correspond with better sleep quality"
   ]
  },
  {
   "cell_type": "code",
   "execution_count": 22,
   "id": "8071ac2e-48d1-4e2c-a5b1-872d618e798b",
   "metadata": {},
   "outputs": [
    {
     "data": {
      "image/png": "[encoded data removed]",
      "text/plain": [
       "<Figure size 800x600 with 1 Axes>"
      ]
     },
     "metadata": {},
     "output_type": "display_data"
    }
   ],
   "source": [
    "plt.figure(figsize=(8,6))\n",
    "\n",
    "# Updated boxplot without the palette parameter\n",
    "sns.boxplot(data=health_df, x='Physical Activity Level', y='Sleep Quality')\n",
    "plt.title('Sleep Quality vs Physical Activity Level')\n",
    "plt.show()\n",
    "\n"
   ]
  },
  {
   "cell_type": "markdown",
   "id": "5e5d6cda-ec23-4102-87ca-eeb50888f2cf",
   "metadata": {},
   "source": [
    "#### Analysis\n",
    "**Sleep Quality vs Physical Activity Level:**\n",
    "\n",
    "This boxplot shows the distribution of sleep quality for different physical activity levels.\n",
    "\n",
    "**Key observations:**\n",
    "\n",
    "There's a clear positive relationship between physical activity level and sleep quality.\n",
    "The 'high' activity level group has the highest median sleep quality and the smallest interquartile range, indicating consistently good sleep quality.\n",
    "The 'low' activity level group has the lowest median sleep quality and a larger spread, suggesting more variability in sleep quality.\n",
    "There's an outlier in the 'low' activity group with higher sleep quality than expected.\n",
    "\n",
    "**Implications:**\n",
    "\n",
    "This visualization supports the correlation found in the matrix, showing that higher physical activity is associated with better sleep quality.\n",
    "The data suggests that encouraging higher levels of physical activity could be a strategy for improving sleep quality."
   ]
  },
  {
   "cell_type": "markdown",
   "id": "1d121440-d332-4c3a-8810-1e4bd83c0de9",
   "metadata": {},
   "source": [
    "### *Distribution of Steps and Calories Burned*\n",
    "Visualize the distribution of daily steps and calories burned, which are key variables related to physical activity.*Reason*: This helps us observe trends in physical activity and how active the individuals are."
   ]
  },
  {
   "cell_type": "code",
   "execution_count": 23,
   "id": "66946280-f9f5-452d-9538-1a84c3052579",
   "metadata": {},
   "outputs": [
    {
     "data": {
      "image/png": "[encoded data removed]",
      "text/plain": [
       "<Figure size 1400x600 with 2 Axes>"
      ]
     },
     "metadata": {},
     "output_type": "display_data"
    }
   ],
   "source": [
    "plt.figure(figsize=(14,6))\n",
    "\n",
    "# Plotting daily steps\n",
    "plt.subplot(1, 2, 1)\n",
    "sns.histplot(health_df['Daily Steps'], kde=True, color='purple')\n",
    "plt.title('Distribution of Daily Steps')\n",
    "plt.xlabel('Steps')\n",
    "plt.ylabel('Frequency')\n",
    "\n",
    "# Plotting calories burned\n",
    "plt.subplot(1, 2, 2)\n",
    "sns.histplot(health_df['Calories Burned'], kde=True, color='red')\n",
    "plt.title('Distribution of Calories Burned')\n",
    "plt.xlabel('Calories')\n",
    "plt.ylabel('Frequency')\n",
    "\n",
    "plt.tight_layout()\n",
    "plt.show()\n"
   ]
  },
  {
   "cell_type": "markdown",
   "id": "5395666b-24e7-4ff2-8e61-f51d70a612ef",
   "metadata": {},
   "source": [
    "#### Analysis\n",
    "**Distribution of Daily Steps and Calories Burned:**\n",
    "\n",
    "These histograms show the distributions of daily steps and calories burned.\n",
    "\n",
    "**Daily Steps:**\n",
    "\n",
    "- The distribution is multimodal, with peaks around 3000-4000 steps, 6000 steps, and 9000-10000 steps.\n",
    "- There's a wide range of step counts, from about 3000 to 11000 steps per day.\n",
    "- The highest frequency is in the 9000-10000 step range, which aligns with common health recommendations.\n",
    "\n",
    "**Calories Burned:**\n",
    "\n",
    "- The distribution is also multimodal, with peaks around 2000 calories, 2400 calories, and 2600-2700 calories.\n",
    "- There's a range of approximately 1800 to 2900 calories burned per day.\n",
    "- The highest frequency is in the lower calorie range (around 2000), with another significant peak at higher calorie burn (2600-2700).\n",
    "\n",
    "**Implications:**\n",
    "\n",
    "- The multimodal distributions in both graphs suggest different subgroups within the population, possibly reflecting varying activity levels or lifestyles.\n",
    "- The alignment of peaks in both graphs (e.g., high steps with high calorie burn) supports the strong correlation seen in the matrix.\n",
    "- The wide range in both metrics indicates significant variability in physical activity levels among the population.\n",
    "\n",
    "**Overall Analysis:**\n",
    "\n",
    "The data consistently shows strong relationships between physical activity, calorie expenditure, and sleep quality. Age appears to be a significant factor, with older individuals generally showing lower levels of activity and sleep quality. The visualizations support the idea that promoting physical activity could have multiple health benefits, including improved sleep quality. However, the multimodal distributions suggest that the population might benefit from tailored interventions for different subgroups based on their current activity levels and age."
   ]
  },
  {
   "cell_type": "markdown",
   "id": "991fe98b-e117-4b06-8a3b-10b8f13694f0",
   "metadata": {},
   "source": [
    "### *Impact of Gender on Sleep Quality*\n",
    "Visualizing the relationship between gender and sleep quality can show if one gender tends to experience better or worse sleep quality.*Reason*: To identify if there are any significant differences in sleep patterns between males and females."
   ]
  },
  {
   "cell_type": "code",
   "execution_count": 24,
   "id": "11ed7885-ceb8-43c0-a668-a2597eff767c",
   "metadata": {},
   "outputs": [
    {
     "data": {
      "image/png": "[encoded data removed]",
      "text/plain": [
       "<Figure size 800x600 with 1 Axes>"
      ]
     },
     "metadata": {},
     "output_type": "display_data"
    }
   ],
   "source": [
    "plt.figure(figsize=(8,6))\n",
    "\n",
    "# Assign 'Gender' to hue and disable the legend\n",
    "sns.boxplot(data=health_df, x='Gender', y='Sleep Quality', hue='Gender', palette='coolwarm', legend=False)\n",
    "plt.title('Sleep Quality by Gender')\n",
    "plt.show()\n"
   ]
  },
  {
   "cell_type": "markdown",
   "id": "ae48b15d-5a56-4576-bd94-b1799392e829",
   "metadata": {},
   "source": [
    "### Analysis\n",
    "**Sleep Quality by Gender:**\n",
    "\n",
    "This boxplot compares sleep quality between females (f) and males (m).\n",
    "\n",
    "**Key observations:**\n",
    "\n",
    "- Females generally report higher sleep quality than males.\n",
    "- The female group has a smaller interquartile range, indicating more consistent sleep quality.\n",
    "- The median sleep quality for females is around 8.5, while for males it's about 6.\n",
    "- Males show a wider range of sleep quality scores, from about 4 to 9.\n",
    "- There's an outlier in the female group with a lower sleep quality score (around 5).\n",
    "\n",
    "**Implications:**\n",
    "\n",
    "- There appears to be a significant gender difference in reported sleep quality, with females experiencing better and more consistent sleep.\n",
    "- The wider range for males suggests more variability in sleep quality, which could be due to various factors such as lifestyle, stress, or health conditions.\n",
    "- The outlier in the female group indicates that while females generally report better sleep, individual exceptions exist."
   ]
  },
  {
   "cell_type": "markdown",
   "id": "1b005adf-525b-4a1b-bf59-36a47a8429da",
   "metadata": {},
   "source": [
    "### *Sleep Disorders and Sleep Quality*\n",
    "We visualize the relationship between the presence of sleep disorders and sleep quality.*Reason*: To explore whether sleep disorders are associated with poor sleep quality."
   ]
  },
  {
   "cell_type": "code",
   "execution_count": 25,
   "id": "1d994cf3-ccbf-4c16-9aa1-212f89e78083",
   "metadata": {},
   "outputs": [
    {
     "name": "stderr",
     "output_type": "stream",
     "text": [
      "C:\\Users\\nguba\\AppData\\Local\\Temp\\ipykernel_17160\\2113854348.py:2: FutureWarning: \n",
      "\n",
      "Passing `palette` without assigning `hue` is deprecated and will be removed in v0.14.0. Assign the `x` variable to `hue` and set `legend=False` for the same effect.\n",
      "\n",
      "  sns.boxplot(data=health_df, x='Sleep Disorders', y='Sleep Quality', palette='Blues')\n"
     ]
    },
    {
     "data": {
      "image/png": "[encoded data removed]",
      "text/plain": [
       "<Figure size 800x600 with 1 Axes>"
      ]
     },
     "metadata": {},
     "output_type": "display_data"
    }
   ],
   "source": [
    "plt.figure(figsize=(8,6))\n",
    "sns.boxplot(data=health_df, x='Sleep Disorders', y='Sleep Quality', palette='Blues')\n",
    "plt.title('Sleep Quality by Presence of Sleep Disorders')\n",
    "plt.show()\n"
   ]
  },
  {
   "cell_type": "markdown",
   "id": "3ffcd5a4-5052-451c-ab8a-f21556d6f4e1",
   "metadata": {},
   "source": [
    "#### Analysis\n",
    "**Sleep Quality by Presence of Sleep Disorders:**\n",
    "\n",
    "This boxplot compares sleep quality between individuals with and without sleep disorders.\n",
    "\n",
    "**Key observations:**\n",
    "\n",
    "- There's a stark difference in sleep quality between those with and without sleep disorders.\n",
    "- Individuals without sleep disorders report much higher sleep quality (median around 8) compared to those with sleep disorders (median around 4.5).\n",
    "- The group without sleep disorders shows a wider range of sleep quality scores, from about 6 to 9.\n",
    "- The group with sleep disorders has a smaller range, mostly between 4 and 5 in sleep quality.\n",
    "- There's an outlier in the group with sleep disorders, showing higher sleep quality than expected (around 7).\n",
    "\n",
    "**Implications:**\n",
    "\n",
    "- The presence of sleep disorders has a significant negative impact on sleep quality.\n",
    "- Even among those without diagnosed sleep disorders, there's variability in sleep quality, suggesting other factors influence sleep beyond diagnosed disorders.\n",
    "- The outlier in the sleep disorder group might represent an individual who's found effective management strategies or has a milder form of sleep disorder.\n",
    "\n",
    "**Overall Analysis:**\n",
    "\n",
    "- **Gender Differences:** The data suggests that females in this sample tend to experience better sleep quality than males. This could be due to various factors such as hormonal differences, stress management, or lifestyle factors. Further investigation into why males report lower sleep quality could be beneficial.\n",
    "- **Impact of Sleep Disorders:** The presence of sleep disorders dramatically reduces sleep quality. This highlights the importance of diagnosing and treating sleep disorders to improve overall sleep quality and potentially other aspects of health and well-being.\n",
    "- **Variability Within Groups:** Both visualizations show variability within groups, indicating that while gender and sleep disorders are significant factors, they're not the only determinants of sleep quality. Other factors like age, physical activity, diet, or stress levels might also play important roles.\n",
    "- **Outliers:** The presence of outliers in both graphs reminds us that individual experiences can vary significantly from group trends. These cases might be worth investigating to understand what factors contribute to their unexpected sleep quality scores.\n",
    "- **Potential for Interventions:** The clear differences between groups suggest that targeted interventions could be effective. For instance, addressing male-specific factors affecting sleep or focusing on early detection and treatment of sleep disorders could significantly improve overall sleep quality in the population.\n",
    "\n",
    "These insights could be valuable for healthcare providers, sleep researchers, and individuals looking to improve their sleep quality. However, it's important to note that correlation doesn't imply causation, and further research would be needed to understand the underlying reasons for these observed differences."
   ]
  },
  {
   "cell_type": "markdown",
   "id": "3e97af3d-cef2-41d8-acbd-9e611bc6bf77",
   "metadata": {},
   "source": [
    "# <font color=red>6. Preprocessing Steps </font>"
   ]
  },
  {
   "cell_type": "markdown",
   "id": "4496490b-1372-4a26-be80-96747fe10537",
   "metadata": {},
   "source": [
    "<div class=\"alert alert-block alert-info\">\n",
    "<b>Preprocessing</b> refers to the set of steps taken to prepare the raw dataset for further analysis or machine learning. It involves transforming and cleaning the data so that it's in a format that is optimal for analysis or model training. Preprocessing is a critical step because raw data usually contains inconsistencies, missing values, or is in a format unsuitable for modeling.</div>"
   ]
  },
  {
   "cell_type": "code",
   "execution_count": 26,
   "id": "77de8267-f903-4eca-a46c-a1398962b4e1",
   "metadata": {},
   "outputs": [],
   "source": [
    "# Importing necessary libraries for preprocessing\n",
    "from sklearn.model_selection import train_test_split\n",
    "from sklearn.preprocessing import StandardScaler, MinMaxScaler\n",
    "from imblearn.over_sampling import SMOTE\n"
   ]
  },
  {
   "cell_type": "code",
   "execution_count": 52,
   "id": "26c8bb3a-d951-4466-a5b8-806d379bd9bf",
   "metadata": {},
   "outputs": [],
   "source": [
    "health2_df= pd.read_csv(\"Cleaned_Health_Sleep_Statistics.csv\")"
   ]
  },
  {
   "cell_type": "code",
   "execution_count": 54,
   "id": "a9c6910e-27cb-45ce-a91b-1311e4805f91",
   "metadata": {},
   "outputs": [
    {
     "data": {
      "text/html": [
       "<div>\n",
       "<style scoped>\n",
       "    .dataframe tbody tr th:only-of-type {\n",
       "        vertical-align: middle;\n",
       "    }\n",
       "\n",
       "    .dataframe tbody tr th {\n",
       "        vertical-align: top;\n",
       "    }\n",
       "\n",
       "    .dataframe thead th {\n",
       "        text-align: right;\n",
       "    }\n",
       "</style>\n",
       "<table border=\"1\" class=\"dataframe\">\n",
       "  <thead>\n",
       "    <tr style=\"text-align: right;\">\n",
       "      <th></th>\n",
       "      <th>User ID</th>\n",
       "      <th>Age</th>\n",
       "      <th>Gender</th>\n",
       "      <th>Sleep Quality</th>\n",
       "      <th>Bedtime</th>\n",
       "      <th>Wake-up Time</th>\n",
       "      <th>Daily Steps</th>\n",
       "      <th>Calories Burned</th>\n",
       "      <th>Physical Activity Level</th>\n",
       "      <th>Dietary Habits</th>\n",
       "      <th>Sleep Disorders</th>\n",
       "      <th>Medication Usage</th>\n",
       "      <th>Sleep Duration</th>\n",
       "    </tr>\n",
       "  </thead>\n",
       "  <tbody>\n",
       "    <tr>\n",
       "      <th>0</th>\n",
       "      <td>1</td>\n",
       "      <td>25</td>\n",
       "      <td>f</td>\n",
       "      <td>8</td>\n",
       "      <td>23.00</td>\n",
       "      <td>6.50</td>\n",
       "      <td>8000</td>\n",
       "      <td>2500</td>\n",
       "      <td>medium</td>\n",
       "      <td>healthy</td>\n",
       "      <td>no</td>\n",
       "      <td>no</td>\n",
       "      <td>7.5</td>\n",
       "    </tr>\n",
       "    <tr>\n",
       "      <th>1</th>\n",
       "      <td>2</td>\n",
       "      <td>34</td>\n",
       "      <td>m</td>\n",
       "      <td>7</td>\n",
       "      <td>0.50</td>\n",
       "      <td>7.00</td>\n",
       "      <td>5000</td>\n",
       "      <td>2200</td>\n",
       "      <td>low</td>\n",
       "      <td>unhealthy</td>\n",
       "      <td>yes</td>\n",
       "      <td>yes</td>\n",
       "      <td>6.5</td>\n",
       "    </tr>\n",
       "    <tr>\n",
       "      <th>2</th>\n",
       "      <td>3</td>\n",
       "      <td>29</td>\n",
       "      <td>f</td>\n",
       "      <td>9</td>\n",
       "      <td>22.75</td>\n",
       "      <td>6.75</td>\n",
       "      <td>9000</td>\n",
       "      <td>2700</td>\n",
       "      <td>high</td>\n",
       "      <td>healthy</td>\n",
       "      <td>no</td>\n",
       "      <td>no</td>\n",
       "      <td>8.0</td>\n",
       "    </tr>\n",
       "    <tr>\n",
       "      <th>3</th>\n",
       "      <td>4</td>\n",
       "      <td>41</td>\n",
       "      <td>m</td>\n",
       "      <td>5</td>\n",
       "      <td>1.00</td>\n",
       "      <td>6.50</td>\n",
       "      <td>4000</td>\n",
       "      <td>2100</td>\n",
       "      <td>low</td>\n",
       "      <td>unhealthy</td>\n",
       "      <td>yes</td>\n",
       "      <td>no</td>\n",
       "      <td>5.5</td>\n",
       "    </tr>\n",
       "    <tr>\n",
       "      <th>4</th>\n",
       "      <td>5</td>\n",
       "      <td>22</td>\n",
       "      <td>f</td>\n",
       "      <td>8</td>\n",
       "      <td>23.50</td>\n",
       "      <td>7.00</td>\n",
       "      <td>10000</td>\n",
       "      <td>2800</td>\n",
       "      <td>high</td>\n",
       "      <td>medium</td>\n",
       "      <td>no</td>\n",
       "      <td>no</td>\n",
       "      <td>7.5</td>\n",
       "    </tr>\n",
       "    <tr>\n",
       "      <th>5</th>\n",
       "      <td>6</td>\n",
       "      <td>37</td>\n",
       "      <td>m</td>\n",
       "      <td>6</td>\n",
       "      <td>0.25</td>\n",
       "      <td>7.25</td>\n",
       "      <td>6000</td>\n",
       "      <td>2300</td>\n",
       "      <td>medium</td>\n",
       "      <td>unhealthy</td>\n",
       "      <td>no</td>\n",
       "      <td>yes</td>\n",
       "      <td>7.0</td>\n",
       "    </tr>\n",
       "    <tr>\n",
       "      <th>6</th>\n",
       "      <td>7</td>\n",
       "      <td>30</td>\n",
       "      <td>f</td>\n",
       "      <td>8</td>\n",
       "      <td>22.50</td>\n",
       "      <td>6.00</td>\n",
       "      <td>8500</td>\n",
       "      <td>2600</td>\n",
       "      <td>high</td>\n",
       "      <td>healthy</td>\n",
       "      <td>no</td>\n",
       "      <td>no</td>\n",
       "      <td>7.5</td>\n",
       "    </tr>\n",
       "    <tr>\n",
       "      <th>7</th>\n",
       "      <td>8</td>\n",
       "      <td>45</td>\n",
       "      <td>m</td>\n",
       "      <td>4</td>\n",
       "      <td>1.50</td>\n",
       "      <td>7.00</td>\n",
       "      <td>3000</td>\n",
       "      <td>2000</td>\n",
       "      <td>low</td>\n",
       "      <td>unhealthy</td>\n",
       "      <td>yes</td>\n",
       "      <td>yes</td>\n",
       "      <td>5.5</td>\n",
       "    </tr>\n",
       "    <tr>\n",
       "      <th>8</th>\n",
       "      <td>9</td>\n",
       "      <td>27</td>\n",
       "      <td>f</td>\n",
       "      <td>9</td>\n",
       "      <td>23.00</td>\n",
       "      <td>7.50</td>\n",
       "      <td>9500</td>\n",
       "      <td>2750</td>\n",
       "      <td>medium</td>\n",
       "      <td>healthy</td>\n",
       "      <td>no</td>\n",
       "      <td>no</td>\n",
       "      <td>8.5</td>\n",
       "    </tr>\n",
       "    <tr>\n",
       "      <th>9</th>\n",
       "      <td>10</td>\n",
       "      <td>32</td>\n",
       "      <td>m</td>\n",
       "      <td>7</td>\n",
       "      <td>0.75</td>\n",
       "      <td>7.25</td>\n",
       "      <td>6500</td>\n",
       "      <td>2400</td>\n",
       "      <td>medium</td>\n",
       "      <td>medium</td>\n",
       "      <td>no</td>\n",
       "      <td>no</td>\n",
       "      <td>6.5</td>\n",
       "    </tr>\n",
       "  </tbody>\n",
       "</table>\n",
       "</div>"
      ],
      "text/plain": [
       "   User ID  Age Gender  Sleep Quality  Bedtime  Wake-up Time  Daily Steps  \\\n",
       "0        1   25      f              8    23.00          6.50         8000   \n",
       "1        2   34      m              7     0.50          7.00         5000   \n",
       "2        3   29      f              9    22.75          6.75         9000   \n",
       "3        4   41      m              5     1.00          6.50         4000   \n",
       "4        5   22      f              8    23.50          7.00        10000   \n",
       "5        6   37      m              6     0.25          7.25         6000   \n",
       "6        7   30      f              8    22.50          6.00         8500   \n",
       "7        8   45      m              4     1.50          7.00         3000   \n",
       "8        9   27      f              9    23.00          7.50         9500   \n",
       "9       10   32      m              7     0.75          7.25         6500   \n",
       "\n",
       "   Calories Burned Physical Activity Level Dietary Habits Sleep Disorders  \\\n",
       "0             2500                  medium        healthy              no   \n",
       "1             2200                     low      unhealthy             yes   \n",
       "2             2700                    high        healthy              no   \n",
       "3             2100                     low      unhealthy             yes   \n",
       "4             2800                    high         medium              no   \n",
       "5             2300                  medium      unhealthy              no   \n",
       "6             2600                    high        healthy              no   \n",
       "7             2000                     low      unhealthy             yes   \n",
       "8             2750                  medium        healthy              no   \n",
       "9             2400                  medium         medium              no   \n",
       "\n",
       "  Medication Usage  Sleep Duration  \n",
       "0               no             7.5  \n",
       "1              yes             6.5  \n",
       "2               no             8.0  \n",
       "3               no             5.5  \n",
       "4               no             7.5  \n",
       "5              yes             7.0  \n",
       "6               no             7.5  \n",
       "7              yes             5.5  \n",
       "8               no             8.5  \n",
       "9               no             6.5  "
      ]
     },
     "execution_count": 54,
     "metadata": {},
     "output_type": "execute_result"
    }
   ],
   "source": [
    "health2_df.head(10)"
   ]
  },
  {
   "cell_type": "code",
   "execution_count": 28,
   "id": "6bf09287-cb0d-4572-8e8c-6a5031afdfbd",
   "metadata": {},
   "outputs": [
    {
     "name": "stdout",
     "output_type": "stream",
     "text": [
      "    User ID  Bedtime  Wake-up Time  Sleep Duration\n",
      "0         1    23.00          6.50             7.5\n",
      "1         2     0.50          7.00             6.5\n",
      "2         3    22.75          6.75             8.0\n",
      "3         4     1.00          6.50             5.5\n",
      "4         5    23.50          7.00             7.5\n",
      "..      ...      ...           ...             ...\n",
      "95       96     0.75          7.25             6.5\n",
      "96       97    23.25          6.25             7.0\n",
      "97       98     1.50          7.00             5.5\n",
      "98       99    22.25          6.75             8.5\n",
      "99      100     0.50          7.00             6.5\n",
      "\n",
      "[100 rows x 4 columns]\n"
     ]
    }
   ],
   "source": [
    "# Calculate Sleep Duration with adjustment for negative values\n",
    "health2_df['Sleep Duration'] = health2_df['Wake-up Time'] - health2_df['Bedtime']\n",
    "\n",
    "# Adjust for cases where Wake-up Time is less than Bedtime\n",
    "health2_df.loc[health2_df['Sleep Duration'] < 0, 'Sleep Duration'] += 24\n",
    "\n",
    "# Now, Sleep Duration should be in hours\n",
    "health2_df['Sleep Duration'] = health2_df['Sleep Duration']\n",
    "\n",
    "# Print the updated DataFrame to verify\n",
    "print(health2_df[['User ID', 'Bedtime', 'Wake-up Time', 'Sleep Duration']])"
   ]
  },
  {
   "cell_type": "code",
   "execution_count": 32,
   "id": "a18baafa-4558-419d-b768-16bb3a2174b6",
   "metadata": {},
   "outputs": [
    {
     "data": {
      "text/html": [
       "<div>\n",
       "<style scoped>\n",
       "    .dataframe tbody tr th:only-of-type {\n",
       "        vertical-align: middle;\n",
       "    }\n",
       "\n",
       "    .dataframe tbody tr th {\n",
       "        vertical-align: top;\n",
       "    }\n",
       "\n",
       "    .dataframe thead th {\n",
       "        text-align: right;\n",
       "    }\n",
       "</style>\n",
       "<table border=\"1\" class=\"dataframe\">\n",
       "  <thead>\n",
       "    <tr style=\"text-align: right;\">\n",
       "      <th></th>\n",
       "      <th>User ID</th>\n",
       "      <th>Age</th>\n",
       "      <th>Gender</th>\n",
       "      <th>Sleep Quality</th>\n",
       "      <th>Bedtime</th>\n",
       "      <th>Wake-up Time</th>\n",
       "      <th>Daily Steps</th>\n",
       "      <th>Calories Burned</th>\n",
       "      <th>Physical Activity Level</th>\n",
       "      <th>Dietary Habits</th>\n",
       "      <th>Sleep Disorders</th>\n",
       "      <th>Medication Usage</th>\n",
       "      <th>Sleep Duration</th>\n",
       "    </tr>\n",
       "  </thead>\n",
       "  <tbody>\n",
       "    <tr>\n",
       "      <th>0</th>\n",
       "      <td>1</td>\n",
       "      <td>25</td>\n",
       "      <td>f</td>\n",
       "      <td>8</td>\n",
       "      <td>23.00</td>\n",
       "      <td>6.50</td>\n",
       "      <td>8000</td>\n",
       "      <td>2500</td>\n",
       "      <td>medium</td>\n",
       "      <td>healthy</td>\n",
       "      <td>no</td>\n",
       "      <td>no</td>\n",
       "      <td>7.5</td>\n",
       "    </tr>\n",
       "    <tr>\n",
       "      <th>1</th>\n",
       "      <td>2</td>\n",
       "      <td>34</td>\n",
       "      <td>m</td>\n",
       "      <td>7</td>\n",
       "      <td>0.50</td>\n",
       "      <td>7.00</td>\n",
       "      <td>5000</td>\n",
       "      <td>2200</td>\n",
       "      <td>low</td>\n",
       "      <td>unhealthy</td>\n",
       "      <td>yes</td>\n",
       "      <td>yes</td>\n",
       "      <td>6.5</td>\n",
       "    </tr>\n",
       "    <tr>\n",
       "      <th>2</th>\n",
       "      <td>3</td>\n",
       "      <td>29</td>\n",
       "      <td>f</td>\n",
       "      <td>9</td>\n",
       "      <td>22.75</td>\n",
       "      <td>6.75</td>\n",
       "      <td>9000</td>\n",
       "      <td>2700</td>\n",
       "      <td>high</td>\n",
       "      <td>healthy</td>\n",
       "      <td>no</td>\n",
       "      <td>no</td>\n",
       "      <td>8.0</td>\n",
       "    </tr>\n",
       "    <tr>\n",
       "      <th>3</th>\n",
       "      <td>4</td>\n",
       "      <td>41</td>\n",
       "      <td>m</td>\n",
       "      <td>5</td>\n",
       "      <td>1.00</td>\n",
       "      <td>6.50</td>\n",
       "      <td>4000</td>\n",
       "      <td>2100</td>\n",
       "      <td>low</td>\n",
       "      <td>unhealthy</td>\n",
       "      <td>yes</td>\n",
       "      <td>no</td>\n",
       "      <td>5.5</td>\n",
       "    </tr>\n",
       "    <tr>\n",
       "      <th>4</th>\n",
       "      <td>5</td>\n",
       "      <td>22</td>\n",
       "      <td>f</td>\n",
       "      <td>8</td>\n",
       "      <td>23.50</td>\n",
       "      <td>7.00</td>\n",
       "      <td>10000</td>\n",
       "      <td>2800</td>\n",
       "      <td>high</td>\n",
       "      <td>medium</td>\n",
       "      <td>no</td>\n",
       "      <td>no</td>\n",
       "      <td>7.5</td>\n",
       "    </tr>\n",
       "    <tr>\n",
       "      <th>5</th>\n",
       "      <td>6</td>\n",
       "      <td>37</td>\n",
       "      <td>m</td>\n",
       "      <td>6</td>\n",
       "      <td>0.25</td>\n",
       "      <td>7.25</td>\n",
       "      <td>6000</td>\n",
       "      <td>2300</td>\n",
       "      <td>medium</td>\n",
       "      <td>unhealthy</td>\n",
       "      <td>no</td>\n",
       "      <td>yes</td>\n",
       "      <td>7.0</td>\n",
       "    </tr>\n",
       "    <tr>\n",
       "      <th>6</th>\n",
       "      <td>7</td>\n",
       "      <td>30</td>\n",
       "      <td>f</td>\n",
       "      <td>8</td>\n",
       "      <td>22.50</td>\n",
       "      <td>6.00</td>\n",
       "      <td>8500</td>\n",
       "      <td>2600</td>\n",
       "      <td>high</td>\n",
       "      <td>healthy</td>\n",
       "      <td>no</td>\n",
       "      <td>no</td>\n",
       "      <td>7.5</td>\n",
       "    </tr>\n",
       "    <tr>\n",
       "      <th>7</th>\n",
       "      <td>8</td>\n",
       "      <td>45</td>\n",
       "      <td>m</td>\n",
       "      <td>4</td>\n",
       "      <td>1.50</td>\n",
       "      <td>7.00</td>\n",
       "      <td>3000</td>\n",
       "      <td>2000</td>\n",
       "      <td>low</td>\n",
       "      <td>unhealthy</td>\n",
       "      <td>yes</td>\n",
       "      <td>yes</td>\n",
       "      <td>5.5</td>\n",
       "    </tr>\n",
       "    <tr>\n",
       "      <th>8</th>\n",
       "      <td>9</td>\n",
       "      <td>27</td>\n",
       "      <td>f</td>\n",
       "      <td>9</td>\n",
       "      <td>23.00</td>\n",
       "      <td>7.50</td>\n",
       "      <td>9500</td>\n",
       "      <td>2750</td>\n",
       "      <td>medium</td>\n",
       "      <td>healthy</td>\n",
       "      <td>no</td>\n",
       "      <td>no</td>\n",
       "      <td>8.5</td>\n",
       "    </tr>\n",
       "    <tr>\n",
       "      <th>9</th>\n",
       "      <td>10</td>\n",
       "      <td>32</td>\n",
       "      <td>m</td>\n",
       "      <td>7</td>\n",
       "      <td>0.75</td>\n",
       "      <td>7.25</td>\n",
       "      <td>6500</td>\n",
       "      <td>2400</td>\n",
       "      <td>medium</td>\n",
       "      <td>medium</td>\n",
       "      <td>no</td>\n",
       "      <td>no</td>\n",
       "      <td>6.5</td>\n",
       "    </tr>\n",
       "  </tbody>\n",
       "</table>\n",
       "</div>"
      ],
      "text/plain": [
       "   User ID  Age Gender  Sleep Quality  Bedtime  Wake-up Time  Daily Steps  \\\n",
       "0        1   25      f              8    23.00          6.50         8000   \n",
       "1        2   34      m              7     0.50          7.00         5000   \n",
       "2        3   29      f              9    22.75          6.75         9000   \n",
       "3        4   41      m              5     1.00          6.50         4000   \n",
       "4        5   22      f              8    23.50          7.00        10000   \n",
       "5        6   37      m              6     0.25          7.25         6000   \n",
       "6        7   30      f              8    22.50          6.00         8500   \n",
       "7        8   45      m              4     1.50          7.00         3000   \n",
       "8        9   27      f              9    23.00          7.50         9500   \n",
       "9       10   32      m              7     0.75          7.25         6500   \n",
       "\n",
       "   Calories Burned Physical Activity Level Dietary Habits Sleep Disorders  \\\n",
       "0             2500                  medium        healthy              no   \n",
       "1             2200                     low      unhealthy             yes   \n",
       "2             2700                    high        healthy              no   \n",
       "3             2100                     low      unhealthy             yes   \n",
       "4             2800                    high         medium              no   \n",
       "5             2300                  medium      unhealthy              no   \n",
       "6             2600                    high        healthy              no   \n",
       "7             2000                     low      unhealthy             yes   \n",
       "8             2750                  medium        healthy              no   \n",
       "9             2400                  medium         medium              no   \n",
       "\n",
       "  Medication Usage  Sleep Duration  \n",
       "0               no             7.5  \n",
       "1              yes             6.5  \n",
       "2               no             8.0  \n",
       "3               no             5.5  \n",
       "4               no             7.5  \n",
       "5              yes             7.0  \n",
       "6               no             7.5  \n",
       "7              yes             5.5  \n",
       "8               no             8.5  \n",
       "9               no             6.5  "
      ]
     },
     "execution_count": 32,
     "metadata": {},
     "output_type": "execute_result"
    }
   ],
   "source": [
    "health2_df.head(10)\n"
   ]
  },
  {
   "cell_type": "markdown",
   "id": "008b7d5b-8435-4c16-8e6a-ff10fec3b8a9",
   "metadata": {},
   "source": [
    "# <font color=red>7. Machine Learning Model Pipeline for Predicting Sleep Quality </font>"
   ]
  },
  {
   "cell_type": "markdown",
   "id": "0ea75217-ed79-476c-b5a9-efa14e9a3e68",
   "metadata": {},
   "source": [
    "### 1. Separate features (X) and target variable (y)"
   ]
  },
  {
   "cell_type": "code",
   "execution_count": 113,
   "id": "a1175a45-e705-40da-903a-69526a3d81c8",
   "metadata": {},
   "outputs": [
    {
     "name": "stdout",
     "output_type": "stream",
     "text": [
      "Step 1: Loading Data...\n",
      "Data loaded with shape: (100, 13)\n",
      "\n",
      "First few rows:\n",
      "   User ID  Age Gender  Sleep Quality  Bedtime  Wake-up Time  Daily Steps  \\\n",
      "0        1   25      f              8    23.00          6.50         8000   \n",
      "1        2   34      m              7     0.50          7.00         5000   \n",
      "2        3   29      f              9    22.75          6.75         9000   \n",
      "3        4   41      m              5     1.00          6.50         4000   \n",
      "4        5   22      f              8    23.50          7.00        10000   \n",
      "\n",
      "   Calories Burned Physical Activity Level Dietary Habits Sleep Disorders  \\\n",
      "0             2500                  medium        healthy              no   \n",
      "1             2200                     low      unhealthy             yes   \n",
      "2             2700                    high        healthy              no   \n",
      "3             2100                     low      unhealthy             yes   \n",
      "4             2800                    high         medium              no   \n",
      "\n",
      "  Medication Usage  Sleep Duration  \n",
      "0               no             7.5  \n",
      "1              yes             6.5  \n",
      "2               no             8.0  \n",
      "3               no             5.5  \n",
      "4               no             7.5  \n"
     ]
    }
   ],
   "source": [
    "import pandas as pd\n",
    "import numpy as np\n",
    "from sklearn.model_selection import train_test_split\n",
    "from sklearn.preprocessing import StandardScaler\n",
    "from sklearn.linear_model import LinearRegression\n",
    "from sklearn.metrics import mean_squared_error, r2_score\n",
    "import joblib\n",
    "\n",
    "# Step 1: Load the data\n",
    "print(\"Step 1: Loading Data...\")\n",
    "data = pd.read_csv('Cleaned_Health_Sleep_Statistics.csv')\n",
    "print(f\"Data loaded with shape: {data.shape}\")\n",
    "print(\"\\nFirst few rows:\")\n",
    "print(data.head())\n"
   ]
  },
  {
   "cell_type": "code",
   "execution_count": null,
   "id": "1aa18ae9-8065-46ba-88be-d21040911f94",
   "metadata": {},
   "outputs": [],
   "source": []
  },
  {
   "cell_type": "markdown",
   "id": "2bef01f2-e6e4-4238-88ac-74a05bd98963",
   "metadata": {},
   "source": [
    "### 2. Identify numerical and categorical columns"
   ]
  },
  {
   "cell_type": "code",
   "execution_count": 114,
   "id": "7842d36d-104e-4f92-a301-fd79e5029904",
   "metadata": {},
   "outputs": [
    {
     "name": "stdout",
     "output_type": "stream",
     "text": [
      "\n",
      "Step 2: Defining Features...\n",
      "Numerical features: ['Age', 'Bedtime', 'Wake-up Time', 'Daily Steps', 'Calories Burned', 'Sleep Duration']\n",
      "Categorical features: ['Gender', 'Physical Activity Level', 'Dietary Habits', 'Sleep Disorders', 'Medication Usage']\n"
     ]
    }
   ],
   "source": [
    "# Step 2: Define features\n",
    "print(\"\\nStep 2: Defining Features...\")\n",
    "numerical_features = ['Age', 'Bedtime', 'Wake-up Time', 'Daily Steps', \n",
    "                     'Calories Burned', 'Sleep Duration']\n",
    "categorical_features = ['Gender', 'Physical Activity Level', 'Dietary Habits', \n",
    "                       'Sleep Disorders', 'Medication Usage']\n",
    "\n",
    "print(\"Numerical features:\", numerical_features)\n",
    "print(\"Categorical features:\", categorical_features)"
   ]
  },
  {
   "cell_type": "markdown",
   "id": "16c765e6-71fa-4d05-a103-74284f0fa886",
   "metadata": {},
   "source": [
    "### 3. Create Preprocessing Pipelines"
   ]
  },
  {
   "cell_type": "code",
   "execution_count": 115,
   "id": "23b39b92-7098-44b2-b67c-595c1e8c66f9",
   "metadata": {},
   "outputs": [
    {
     "name": "stdout",
     "output_type": "stream",
     "text": [
      "\n",
      "Step 3: Preprocessing Data...\n",
      "Processed feature names:\n",
      "['Age', 'Bedtime', 'Wake-up Time', 'Daily Steps', 'Calories Burned', 'Sleep Duration', 'Gender_m', 'Physical Activity Level_low', 'Physical Activity Level_medium', 'Dietary Habits_medium', 'Dietary Habits_unhealthy', 'Sleep Disorders_yes', 'Medication Usage_yes']\n",
      "\n",
      "Processed data shape: (100, 13)\n"
     ]
    }
   ],
   "source": [
    "# Step 3: Preprocess the data\n",
    "print(\"\\nStep 3: Preprocessing Data...\")\n",
    "# Handle numerical features\n",
    "numerical_data = data[numerical_features].copy()\n",
    "\n",
    "# Create dummy variables for categorical features with drop_first=True\n",
    "categorical_data = pd.get_dummies(data[categorical_features], drop_first=True)\n",
    "\n",
    "# Combine numerical and categorical features\n",
    "X = pd.concat([numerical_data, categorical_data], axis=1)\n",
    "y = data['Sleep Quality']\n",
    "\n",
    "print(\"Processed feature names:\")\n",
    "print(X.columns.tolist())\n",
    "print(f\"\\nProcessed data shape: {X.shape}\")"
   ]
  },
  {
   "cell_type": "code",
   "execution_count": 116,
   "id": "6686bf17-70ae-46f6-978b-ecedcd153054",
   "metadata": {},
   "outputs": [
    {
     "name": "stdout",
     "output_type": "stream",
     "text": [
      "\n",
      "Step 4: Splitting Data...\n",
      "Training set shape: (80, 13)\n",
      "Test set shape: (20, 13)\n"
     ]
    }
   ],
   "source": [
    "# Step 4: Split the data\n",
    "print(\"\\nStep 4: Splitting Data...\")\n",
    "X_train, X_test, y_train, y_test = train_test_split(X, y, test_size=0.2, random_state=42)\n",
    "print(f\"Training set shape: {X_train.shape}\")\n",
    "print(f\"Test set shape: {X_test.shape}\")"
   ]
  },
  {
   "cell_type": "code",
   "execution_count": 123,
   "id": "a3a2d954-9590-44c5-95f5-d6a712eae8b9",
   "metadata": {},
   "outputs": [
    {
     "name": "stdout",
     "output_type": "stream",
     "text": [
      "\n",
      "Step 5: Scaling Features...\n"
     ]
    }
   ],
   "source": [
    "# Step 5: Scale the features\n",
    "print(\"\\nStep 5: Scaling Features...\")\n",
    "scaler = StandardScaler()\n",
    "X_train_scaled = scaler.fit_transform(X_train)\n",
    "X_test_scaled = scaler.transform(X_test)\n",
    "\n",
    "# Convert back to DataFrame to keep column names\n",
    "X_train_scaled = pd.DataFrame(X_train_scaled, columns=X_train.columns)\n",
    "X_test_scaled = pd.DataFrame(X_test_scaled, columns=X_test.columns)"
   ]
  },
  {
   "cell_type": "markdown",
   "id": "32c0a27e-2d92-40a5-8a5b-e3812c8a6eb9",
   "metadata": {},
   "source": [
    "### 7. Train the model pipeline"
   ]
  },
  {
   "cell_type": "code",
   "execution_count": 124,
   "id": "05623711-30a2-4476-a793-63002aeed3b5",
   "metadata": {},
   "outputs": [
    {
     "name": "stdout",
     "output_type": "stream",
     "text": [
      "\n",
      "Step 6: Training Model...\n"
     ]
    },
    {
     "data": {
      "text/html": [
       "<style>#sk-container-id-5 {\n",
       "  /* Definition of color scheme common for light and dark mode */\n",
       "  --sklearn-color-text: black;\n",
       "  --sklearn-color-line: gray;\n",
       "  /* Definition of color scheme for unfitted estimators */\n",
       "  --sklearn-color-unfitted-level-0: #fff5e6;\n",
       "  --sklearn-color-unfitted-level-1: #f6e4d2;\n",
       "  --sklearn-color-unfitted-level-2: #ffe0b3;\n",
       "  --sklearn-color-unfitted-level-3: chocolate;\n",
       "  /* Definition of color scheme for fitted estimators */\n",
       "  --sklearn-color-fitted-level-0: #f0f8ff;\n",
       "  --sklearn-color-fitted-level-1: #d4ebff;\n",
       "  --sklearn-color-fitted-level-2: #b3dbfd;\n",
       "  --sklearn-color-fitted-level-3: cornflowerblue;\n",
       "\n",
       "  /* Specific color for light theme */\n",
       "  --sklearn-color-text-on-default-background: var(--sg-text-color, var(--theme-code-foreground, var(--jp-content-font-color1, black)));\n",
       "  --sklearn-color-background: var(--sg-background-color, var(--theme-background, var(--jp-layout-color0, white)));\n",
       "  --sklearn-color-border-box: var(--sg-text-color, var(--theme-code-foreground, var(--jp-content-font-color1, black)));\n",
       "  --sklearn-color-icon: #696969;\n",
       "\n",
       "  @media (prefers-color-scheme: dark) {\n",
       "    /* Redefinition of color scheme for dark theme */\n",
       "    --sklearn-color-text-on-default-background: var(--sg-text-color, var(--theme-code-foreground, var(--jp-content-font-color1, white)));\n",
       "    --sklearn-color-background: var(--sg-background-color, var(--theme-background, var(--jp-layout-color0, #111)));\n",
       "    --sklearn-color-border-box: var(--sg-text-color, var(--theme-code-foreground, var(--jp-content-font-color1, white)));\n",
       "    --sklearn-color-icon: #878787;\n",
       "  }\n",
       "}\n",
       "\n",
       "#sk-container-id-5 {\n",
       "  color: var(--sklearn-color-text);\n",
       "}\n",
       "\n",
       "#sk-container-id-5 pre {\n",
       "  padding: 0;\n",
       "}\n",
       "\n",
       "#sk-container-id-5 input.sk-hidden--visually {\n",
       "  border: 0;\n",
       "  clip: rect(1px 1px 1px 1px);\n",
       "  clip: rect(1px, 1px, 1px, 1px);\n",
       "  height: 1px;\n",
       "  margin: -1px;\n",
       "  overflow: hidden;\n",
       "  padding: 0;\n",
       "  position: absolute;\n",
       "  width: 1px;\n",
       "}\n",
       "\n",
       "#sk-container-id-5 div.sk-dashed-wrapped {\n",
       "  border: 1px dashed var(--sklearn-color-line);\n",
       "  margin: 0 0.4em 0.5em 0.4em;\n",
       "  box-sizing: border-box;\n",
       "  padding-bottom: 0.4em;\n",
       "  background-color: var(--sklearn-color-background);\n",
       "}\n",
       "\n",
       "#sk-container-id-5 div.sk-container {\n",
       "  /* jupyter's `normalize.less` sets `[hidden] { display: none; }`\n",
       "     but bootstrap.min.css set `[hidden] { display: none !important; }`\n",
       "     so we also need the `!important` here to be able to override the\n",
       "     default hidden behavior on the sphinx rendered scikit-learn.org.\n",
       "     See: https://github.com/scikit-learn/scikit-learn/issues/21755 */\n",
       "  display: inline-block !important;\n",
       "  position: relative;\n",
       "}\n",
       "\n",
       "#sk-container-id-5 div.sk-text-repr-fallback {\n",
       "  display: none;\n",
       "}\n",
       "\n",
       "div.sk-parallel-item,\n",
       "div.sk-serial,\n",
       "div.sk-item {\n",
       "  /* draw centered vertical line to link estimators */\n",
       "  background-image: linear-gradient(var(--sklearn-color-text-on-default-background), var(--sklearn-color-text-on-default-background));\n",
       "  background-size: 2px 100%;\n",
       "  background-repeat: no-repeat;\n",
       "  background-position: center center;\n",
       "}\n",
       "\n",
       "/* Parallel-specific style estimator block */\n",
       "\n",
       "#sk-container-id-5 div.sk-parallel-item::after {\n",
       "  content: \"\";\n",
       "  width: 100%;\n",
       "  border-bottom: 2px solid var(--sklearn-color-text-on-default-background);\n",
       "  flex-grow: 1;\n",
       "}\n",
       "\n",
       "#sk-container-id-5 div.sk-parallel {\n",
       "  display: flex;\n",
       "  align-items: stretch;\n",
       "  justify-content: center;\n",
       "  background-color: var(--sklearn-color-background);\n",
       "  position: relative;\n",
       "}\n",
       "\n",
       "#sk-container-id-5 div.sk-parallel-item {\n",
       "  display: flex;\n",
       "  flex-direction: column;\n",
       "}\n",
       "\n",
       "#sk-container-id-5 div.sk-parallel-item:first-child::after {\n",
       "  align-self: flex-end;\n",
       "  width: 50%;\n",
       "}\n",
       "\n",
       "#sk-container-id-5 div.sk-parallel-item:last-child::after {\n",
       "  align-self: flex-start;\n",
       "  width: 50%;\n",
       "}\n",
       "\n",
       "#sk-container-id-5 div.sk-parallel-item:only-child::after {\n",
       "  width: 0;\n",
       "}\n",
       "\n",
       "/* Serial-specific style estimator block */\n",
       "\n",
       "#sk-container-id-5 div.sk-serial {\n",
       "  display: flex;\n",
       "  flex-direction: column;\n",
       "  align-items: center;\n",
       "  background-color: var(--sklearn-color-background);\n",
       "  padding-right: 1em;\n",
       "  padding-left: 1em;\n",
       "}\n",
       "\n",
       "\n",
       "/* Toggleable style: style used for estimator/Pipeline/ColumnTransformer box that is\n",
       "clickable and can be expanded/collapsed.\n",
       "- Pipeline and ColumnTransformer use this feature and define the default style\n",
       "- Estimators will overwrite some part of the style using the `sk-estimator` class\n",
       "*/\n",
       "\n",
       "/* Pipeline and ColumnTransformer style (default) */\n",
       "\n",
       "#sk-container-id-5 div.sk-toggleable {\n",
       "  /* Default theme specific background. It is overwritten whether we have a\n",
       "  specific estimator or a Pipeline/ColumnTransformer */\n",
       "  background-color: var(--sklearn-color-background);\n",
       "}\n",
       "\n",
       "/* Toggleable label */\n",
       "#sk-container-id-5 label.sk-toggleable__label {\n",
       "  cursor: pointer;\n",
       "  display: block;\n",
       "  width: 100%;\n",
       "  margin-bottom: 0;\n",
       "  padding: 0.5em;\n",
       "  box-sizing: border-box;\n",
       "  text-align: center;\n",
       "}\n",
       "\n",
       "#sk-container-id-5 label.sk-toggleable__label-arrow:before {\n",
       "  /* Arrow on the left of the label */\n",
       "  content: \"▸\";\n",
       "  float: left;\n",
       "  margin-right: 0.25em;\n",
       "  color: var(--sklearn-color-icon);\n",
       "}\n",
       "\n",
       "#sk-container-id-5 label.sk-toggleable__label-arrow:hover:before {\n",
       "  color: var(--sklearn-color-text);\n",
       "}\n",
       "\n",
       "/* Toggleable content - dropdown */\n",
       "\n",
       "#sk-container-id-5 div.sk-toggleable__content {\n",
       "  max-height: 0;\n",
       "  max-width: 0;\n",
       "  overflow: hidden;\n",
       "  text-align: left;\n",
       "  /* unfitted */\n",
       "  background-color: var(--sklearn-color-unfitted-level-0);\n",
       "}\n",
       "\n",
       "#sk-container-id-5 div.sk-toggleable__content.fitted {\n",
       "  /* fitted */\n",
       "  background-color: var(--sklearn-color-fitted-level-0);\n",
       "}\n",
       "\n",
       "#sk-container-id-5 div.sk-toggleable__content pre {\n",
       "  margin: 0.2em;\n",
       "  border-radius: 0.25em;\n",
       "  color: var(--sklearn-color-text);\n",
       "  /* unfitted */\n",
       "  background-color: var(--sklearn-color-unfitted-level-0);\n",
       "}\n",
       "\n",
       "#sk-container-id-5 div.sk-toggleable__content.fitted pre {\n",
       "  /* unfitted */\n",
       "  background-color: var(--sklearn-color-fitted-level-0);\n",
       "}\n",
       "\n",
       "#sk-container-id-5 input.sk-toggleable__control:checked~div.sk-toggleable__content {\n",
       "  /* Expand drop-down */\n",
       "  max-height: 200px;\n",
       "  max-width: 100%;\n",
       "  overflow: auto;\n",
       "}\n",
       "\n",
       "#sk-container-id-5 input.sk-toggleable__control:checked~label.sk-toggleable__label-arrow:before {\n",
       "  content: \"▾\";\n",
       "}\n",
       "\n",
       "/* Pipeline/ColumnTransformer-specific style */\n",
       "\n",
       "#sk-container-id-5 div.sk-label input.sk-toggleable__control:checked~label.sk-toggleable__label {\n",
       "  color: var(--sklearn-color-text);\n",
       "  background-color: var(--sklearn-color-unfitted-level-2);\n",
       "}\n",
       "\n",
       "#sk-container-id-5 div.sk-label.fitted input.sk-toggleable__control:checked~label.sk-toggleable__label {\n",
       "  background-color: var(--sklearn-color-fitted-level-2);\n",
       "}\n",
       "\n",
       "/* Estimator-specific style */\n",
       "\n",
       "/* Colorize estimator box */\n",
       "#sk-container-id-5 div.sk-estimator input.sk-toggleable__control:checked~label.sk-toggleable__label {\n",
       "  /* unfitted */\n",
       "  background-color: var(--sklearn-color-unfitted-level-2);\n",
       "}\n",
       "\n",
       "#sk-container-id-5 div.sk-estimator.fitted input.sk-toggleable__control:checked~label.sk-toggleable__label {\n",
       "  /* fitted */\n",
       "  background-color: var(--sklearn-color-fitted-level-2);\n",
       "}\n",
       "\n",
       "#sk-container-id-5 div.sk-label label.sk-toggleable__label,\n",
       "#sk-container-id-5 div.sk-label label {\n",
       "  /* The background is the default theme color */\n",
       "  color: var(--sklearn-color-text-on-default-background);\n",
       "}\n",
       "\n",
       "/* On hover, darken the color of the background */\n",
       "#sk-container-id-5 div.sk-label:hover label.sk-toggleable__label {\n",
       "  color: var(--sklearn-color-text);\n",
       "  background-color: var(--sklearn-color-unfitted-level-2);\n",
       "}\n",
       "\n",
       "/* Label box, darken color on hover, fitted */\n",
       "#sk-container-id-5 div.sk-label.fitted:hover label.sk-toggleable__label.fitted {\n",
       "  color: var(--sklearn-color-text);\n",
       "  background-color: var(--sklearn-color-fitted-level-2);\n",
       "}\n",
       "\n",
       "/* Estimator label */\n",
       "\n",
       "#sk-container-id-5 div.sk-label label {\n",
       "  font-family: monospace;\n",
       "  font-weight: bold;\n",
       "  display: inline-block;\n",
       "  line-height: 1.2em;\n",
       "}\n",
       "\n",
       "#sk-container-id-5 div.sk-label-container {\n",
       "  text-align: center;\n",
       "}\n",
       "\n",
       "/* Estimator-specific */\n",
       "#sk-container-id-5 div.sk-estimator {\n",
       "  font-family: monospace;\n",
       "  border: 1px dotted var(--sklearn-color-border-box);\n",
       "  border-radius: 0.25em;\n",
       "  box-sizing: border-box;\n",
       "  margin-bottom: 0.5em;\n",
       "  /* unfitted */\n",
       "  background-color: var(--sklearn-color-unfitted-level-0);\n",
       "}\n",
       "\n",
       "#sk-container-id-5 div.sk-estimator.fitted {\n",
       "  /* fitted */\n",
       "  background-color: var(--sklearn-color-fitted-level-0);\n",
       "}\n",
       "\n",
       "/* on hover */\n",
       "#sk-container-id-5 div.sk-estimator:hover {\n",
       "  /* unfitted */\n",
       "  background-color: var(--sklearn-color-unfitted-level-2);\n",
       "}\n",
       "\n",
       "#sk-container-id-5 div.sk-estimator.fitted:hover {\n",
       "  /* fitted */\n",
       "  background-color: var(--sklearn-color-fitted-level-2);\n",
       "}\n",
       "\n",
       "/* Specification for estimator info (e.g. \"i\" and \"?\") */\n",
       "\n",
       "/* Common style for \"i\" and \"?\" */\n",
       "\n",
       ".sk-estimator-doc-link,\n",
       "a:link.sk-estimator-doc-link,\n",
       "a:visited.sk-estimator-doc-link {\n",
       "  float: right;\n",
       "  font-size: smaller;\n",
       "  line-height: 1em;\n",
       "  font-family: monospace;\n",
       "  background-color: var(--sklearn-color-background);\n",
       "  border-radius: 1em;\n",
       "  height: 1em;\n",
       "  width: 1em;\n",
       "  text-decoration: none !important;\n",
       "  margin-left: 1ex;\n",
       "  /* unfitted */\n",
       "  border: var(--sklearn-color-unfitted-level-1) 1pt solid;\n",
       "  color: var(--sklearn-color-unfitted-level-1);\n",
       "}\n",
       "\n",
       ".sk-estimator-doc-link.fitted,\n",
       "a:link.sk-estimator-doc-link.fitted,\n",
       "a:visited.sk-estimator-doc-link.fitted {\n",
       "  /* fitted */\n",
       "  border: var(--sklearn-color-fitted-level-1) 1pt solid;\n",
       "  color: var(--sklearn-color-fitted-level-1);\n",
       "}\n",
       "\n",
       "/* On hover */\n",
       "div.sk-estimator:hover .sk-estimator-doc-link:hover,\n",
       ".sk-estimator-doc-link:hover,\n",
       "div.sk-label-container:hover .sk-estimator-doc-link:hover,\n",
       ".sk-estimator-doc-link:hover {\n",
       "  /* unfitted */\n",
       "  background-color: var(--sklearn-color-unfitted-level-3);\n",
       "  color: var(--sklearn-color-background);\n",
       "  text-decoration: none;\n",
       "}\n",
       "\n",
       "div.sk-estimator.fitted:hover .sk-estimator-doc-link.fitted:hover,\n",
       ".sk-estimator-doc-link.fitted:hover,\n",
       "div.sk-label-container:hover .sk-estimator-doc-link.fitted:hover,\n",
       ".sk-estimator-doc-link.fitted:hover {\n",
       "  /* fitted */\n",
       "  background-color: var(--sklearn-color-fitted-level-3);\n",
       "  color: var(--sklearn-color-background);\n",
       "  text-decoration: none;\n",
       "}\n",
       "\n",
       "/* Span, style for the box shown on hovering the info icon */\n",
       ".sk-estimator-doc-link span {\n",
       "  display: none;\n",
       "  z-index: 9999;\n",
       "  position: relative;\n",
       "  font-weight: normal;\n",
       "  right: .2ex;\n",
       "  padding: .5ex;\n",
       "  margin: .5ex;\n",
       "  width: min-content;\n",
       "  min-width: 20ex;\n",
       "  max-width: 50ex;\n",
       "  color: var(--sklearn-color-text);\n",
       "  box-shadow: 2pt 2pt 4pt #999;\n",
       "  /* unfitted */\n",
       "  background: var(--sklearn-color-unfitted-level-0);\n",
       "  border: .5pt solid var(--sklearn-color-unfitted-level-3);\n",
       "}\n",
       "\n",
       ".sk-estimator-doc-link.fitted span {\n",
       "  /* fitted */\n",
       "  background: var(--sklearn-color-fitted-level-0);\n",
       "  border: var(--sklearn-color-fitted-level-3);\n",
       "}\n",
       "\n",
       ".sk-estimator-doc-link:hover span {\n",
       "  display: block;\n",
       "}\n",
       "\n",
       "/* \"?\"-specific style due to the `<a>` HTML tag */\n",
       "\n",
       "#sk-container-id-5 a.estimator_doc_link {\n",
       "  float: right;\n",
       "  font-size: 1rem;\n",
       "  line-height: 1em;\n",
       "  font-family: monospace;\n",
       "  background-color: var(--sklearn-color-background);\n",
       "  border-radius: 1rem;\n",
       "  height: 1rem;\n",
       "  width: 1rem;\n",
       "  text-decoration: none;\n",
       "  /* unfitted */\n",
       "  color: var(--sklearn-color-unfitted-level-1);\n",
       "  border: var(--sklearn-color-unfitted-level-1) 1pt solid;\n",
       "}\n",
       "\n",
       "#sk-container-id-5 a.estimator_doc_link.fitted {\n",
       "  /* fitted */\n",
       "  border: var(--sklearn-color-fitted-level-1) 1pt solid;\n",
       "  color: var(--sklearn-color-fitted-level-1);\n",
       "}\n",
       "\n",
       "/* On hover */\n",
       "#sk-container-id-5 a.estimator_doc_link:hover {\n",
       "  /* unfitted */\n",
       "  background-color: var(--sklearn-color-unfitted-level-3);\n",
       "  color: var(--sklearn-color-background);\n",
       "  text-decoration: none;\n",
       "}\n",
       "\n",
       "#sk-container-id-5 a.estimator_doc_link.fitted:hover {\n",
       "  /* fitted */\n",
       "  background-color: var(--sklearn-color-fitted-level-3);\n",
       "}\n",
       "</style><div id=\"sk-container-id-5\" class=\"sk-top-container\"><div class=\"sk-text-repr-fallback\"><pre>LinearRegression()</pre><b>In a Jupyter environment, please rerun this cell to show the HTML representation or trust the notebook. <br />On GitHub, the HTML representation is unable to render, please try loading this page with nbviewer.org.</b></div><div class=\"sk-container\" hidden><div class=\"sk-item\"><div class=\"sk-estimator fitted sk-toggleable\"><input class=\"sk-toggleable__control sk-hidden--visually\" id=\"sk-estimator-id-19\" type=\"checkbox\" checked><label for=\"sk-estimator-id-19\" class=\"sk-toggleable__label fitted sk-toggleable__label-arrow fitted\">&nbsp;&nbsp;LinearRegression<a class=\"sk-estimator-doc-link fitted\" rel=\"noreferrer\" target=\"_blank\" href=\"https://scikit-learn.org/1.4/modules/generated/sklearn.linear_model.LinearRegression.html\">?<span>Documentation for LinearRegression</span></a><span class=\"sk-estimator-doc-link fitted\">i<span>Fitted</span></span></label><div class=\"sk-toggleable__content fitted\"><pre>LinearRegression()</pre></div> </div></div></div></div>"
      ],
      "text/plain": [
       "LinearRegression()"
      ]
     },
     "execution_count": 124,
     "metadata": {},
     "output_type": "execute_result"
    }
   ],
   "source": [
    "# Step 6: Train the model\n",
    "print(\"\\nStep 6: Training Model...\")\n",
    "model = LinearRegression()\n",
    "model.fit(X_train_scaled, y_train)"
   ]
  },
  {
   "cell_type": "markdown",
   "id": "59ca889e-b8b7-4436-a954-7e3c69c52d76",
   "metadata": {},
   "source": [
    "### 8. Evaluate the model"
   ]
  },
  {
   "cell_type": "code",
   "execution_count": 125,
   "id": "7d0c019b-5171-43fa-a55d-b27059552cd3",
   "metadata": {},
   "outputs": [
    {
     "name": "stdout",
     "output_type": "stream",
     "text": [
      "\n",
      "Step 7: Evaluating Model...\n",
      "\n",
      "Model Performance:\n",
      "Training MSE: 0.0668\n",
      "Test MSE: 0.2076\n",
      "Training R²: 0.9773\n",
      "Test R²: 0.9341\n"
     ]
    }
   ],
   "source": [
    "# Step 7: Make predictions and evaluate\n",
    "print(\"\\nStep 7: Evaluating Model...\")\n",
    "train_predictions = model.predict(X_train_scaled)\n",
    "test_predictions = model.predict(X_test_scaled)\n",
    "\n",
    "# Calculate metrics\n",
    "train_mse = mean_squared_error(y_train, train_predictions)\n",
    "test_mse = mean_squared_error(y_test, test_predictions)\n",
    "train_r2 = r2_score(y_train, train_predictions)\n",
    "test_r2 = r2_score(y_test, test_predictions)\n",
    "\n",
    "print(\"\\nModel Performance:\")\n",
    "print(f\"Training MSE: {train_mse:.4f}\")\n",
    "print(f\"Test MSE: {test_mse:.4f}\")\n",
    "print(f\"Training R²: {train_r2:.4f}\")\n",
    "print(f\"Test R²: {test_r2:.4f}\")"
   ]
  },
  {
   "cell_type": "markdown",
   "id": "d34bb753-ebde-4f9f-8dd4-b057bb2ed13f",
   "metadata": {},
   "source": [
    "#### **Here's a breakdown of your regression model's performance metrics:**\n",
    "\n",
    "- **Training Mean Squared Error (MSE): 0.0668**\n",
    "This indicates the average squared difference between the predicted and actual values on the training set. A lower MSE suggests that the model is capturing the training data well. Here, 0.0668 is a relatively low MSE, suggesting a good fit to the training data.\n",
    "\n",
    "- **Test Mean Squared Error (MSE): 0.2076**\n",
    "This is the average squared error on the test set. It’s higher than the training MSE, which indicates that the model performs slightly worse on new (unseen) data. This could suggest a minor generalization gap, meaning the model is somewhat more accurate on training data than on test data. However, the gap is not too large, so this doesn’t indicate significant overfitting.\n",
    "\n",
    "- **Training R² (Coefficient of Determination): 0.9773**\n",
    "The R² score measures how well the model explains the variance in the target variable, with values closer to 1 indicating a better fit. An R² of 0.9773 means that the model explains 97.73% of the variance in the training data, which is quite high and suggests a strong fit on the training data.\n",
    "\n",
    "- **Test R²: 0.9341**\n",
    "This is the R² score on the test set, showing that the model explains about 93.41% of the variance in the test data. This is a strong R², indicating that the model generalizes well to unseen data, even though it’s slightly lower than the training R².\n",
    "\n",
    "**Summary**\n",
    "Your model performs well, both on the training and test data, with minimal overfitting:\n",
    "\n",
    "Training performance is high, indicating a good fit.\n",
    "Test performance is also high, indicating good generalization.\n",
    "A small gap between training and test scores is typical and suggests that the model captures the underlying patterns without overfitting"
   ]
  },
  {
   "cell_type": "code",
   "execution_count": 126,
   "id": "6c6bebcf-0152-4963-b415-dce12fb58bc8",
   "metadata": {},
   "outputs": [
    {
     "name": "stdout",
     "output_type": "stream",
     "text": [
      "\n",
      "Step 8: Feature Importance Analysis...\n",
      "\n",
      "Top 10 Most Important Features:\n",
      "                           Feature  Coefficient  Abs_Coefficient\n",
      "3                      Daily Steps     1.104094         1.104094\n",
      "1                          Bedtime    -0.675599         0.675599\n",
      "4                  Calories Burned     0.469354         0.469354\n",
      "6                         Gender_m    -0.405048         0.405048\n",
      "5                   Sleep Duration     0.279626         0.279626\n",
      "8   Physical Activity Level_medium    -0.076256         0.076256\n",
      "9            Dietary Habits_medium     0.059198         0.059198\n",
      "0                              Age    -0.030209         0.030209\n",
      "11             Sleep Disorders_yes    -0.029783         0.029783\n",
      "7      Physical Activity Level_low    -0.029783         0.029783\n"
     ]
    }
   ],
   "source": [
    "# Step 8: Feature importance analysis\n",
    "print(\"\\nStep 8: Feature Importance Analysis...\")\n",
    "feature_importance = pd.DataFrame({\n",
    "    'Feature': X.columns,\n",
    "    'Coefficient': model.coef_\n",
    "})\n",
    "feature_importance['Abs_Coefficient'] = abs(feature_importance['Coefficient'])\n",
    "feature_importance = feature_importance.sort_values('Abs_Coefficient', ascending=False)\n",
    "\n",
    "print(\"\\nTop 10 Most Important Features:\")\n",
    "print(feature_importance.head(10))"
   ]
  },
  {
   "cell_type": "code",
   "execution_count": 129,
   "id": "cb21cbbc-caec-48b9-b6c6-fb088ec32c45",
   "metadata": {},
   "outputs": [
    {
     "name": "stdout",
     "output_type": "stream",
     "text": [
      "\n",
      "Saving model and preprocessing objects...\n",
      "Model and preprocessing objects saved successfully!\n"
     ]
    }
   ],
   "source": [
    "import pickle\n",
    "\n",
    "# Save all necessary objects using pickle\n",
    "print(\"\\nSaving model and preprocessing objects...\")\n",
    "with open('sleep_quality_model.pkl', 'wb') as f:\n",
    "    pickle.dump(model, f)\n",
    "\n",
    "with open('scaler.pkl', 'wb') as f:\n",
    "    pickle.dump(scaler, f)\n",
    "\n",
    "# Save feature names\n",
    "feature_names = {\n",
    "    'numerical_features': numerical_features,\n",
    "    'categorical_features': categorical_features,\n",
    "    'encoded_features': X.columns.tolist()\n",
    "}\n",
    "with open('feature_names.pkl', 'wb') as f:\n",
    "    pickle.dump(feature_names, f)\n",
    "\n",
    "print(\"Model and preprocessing objects saved successfully!\")"
   ]
  },
  {
   "cell_type": "code",
   "execution_count": 107,
   "id": "ab26d990-e6bf-40d3-9510-72ebc4cb8794",
   "metadata": {},
   "outputs": [
    {
     "data": {
      "application/vnd.plotly.v1+json": {
       "config": {
        "plotlyServerURL": "https://plot.ly"
       },
       "data": [
        {
         "marker": {
          "color": [
           "#636EFA",
           "#EF553B",
           "#00CC96",
           "#AB63FA"
          ]
         },
         "text": [
          "0.1138",
          "0.0771",
          "0.2776",
          "0.9755"
         ],
         "textposition": "auto",
         "type": "bar",
         "x": [
          "Mean Absolute Error (MAE)",
          "Mean Squared Error (MSE)",
          "Root Mean Squared Error (RMSE)",
          "R² Score"
         ],
         "y": [
          0.11377699868722861,
          0.07707143543315034,
          0.27761742638593556,
          0.9755134438655598
         ]
        }
       ],
       "layout": {
        "autosize": true,
        "template": {
         "data": {
          "bar": [
           {
            "error_x": {
             "color": "#2a3f5f"
            },
            "error_y": {
             "color": "#2a3f5f"
            },
            "marker": {
             "line": {
              "color": "white",
              "width": 0.5
             },
             "pattern": {
              "fillmode": "overlay",
              "size": 10,
              "solidity": 0.2
             }
            },
            "type": "bar"
           }
          ],
          "barpolar": [
           {
            "marker": {
             "line": {
              "color": "white",
              "width": 0.5
             },
             "pattern": {
              "fillmode": "overlay",
              "size": 10,
              "solidity": 0.2
             }
            },
            "type": "barpolar"
           }
          ],
          "carpet": [
           {
            "aaxis": {
             "endlinecolor": "#2a3f5f",
             "gridcolor": "#C8D4E3",
             "linecolor": "#C8D4E3",
             "minorgridcolor": "#C8D4E3",
             "startlinecolor": "#2a3f5f"
            },
            "baxis": {
             "endlinecolor": "#2a3f5f",
             "gridcolor": "#C8D4E3",
             "linecolor": "#C8D4E3",
             "minorgridcolor": "#C8D4E3",
             "startlinecolor": "#2a3f5f"
            },
            "type": "carpet"
           }
          ],
          "choropleth": [
           {
            "colorbar": {
             "outlinewidth": 0,
             "ticks": ""
            },
            "type": "choropleth"
           }
          ],
          "contour": [
           {
            "colorbar": {
             "outlinewidth": 0,
             "ticks": ""
            },
            "colorscale": [
             [
              0,
              "#0d0887"
             ],
             [
              0.1111111111111111,
              "#46039f"
             ],
             [
              0.2222222222222222,
              "#7201a8"
             ],
             [
              0.3333333333333333,
              "#9c179e"
             ],
             [
              0.4444444444444444,
              "#bd3786"
             ],
             [
              0.5555555555555556,
              "#d8576b"
             ],
             [
              0.6666666666666666,
              "#ed7953"
             ],
             [
              0.7777777777777778,
              "#fb9f3a"
             ],
             [
              0.8888888888888888,
              "#fdca26"
             ],
             [
              1,
              "#f0f921"
             ]
            ],
            "type": "contour"
           }
          ],
          "contourcarpet": [
           {
            "colorbar": {
             "outlinewidth": 0,
             "ticks": ""
            },
            "type": "contourcarpet"
           }
          ],
          "heatmap": [
           {
            "colorbar": {
             "outlinewidth": 0,
             "ticks": ""
            },
            "colorscale": [
             [
              0,
              "#0d0887"
             ],
             [
              0.1111111111111111,
              "#46039f"
             ],
             [
              0.2222222222222222,
              "#7201a8"
             ],
             [
              0.3333333333333333,
              "#9c179e"
             ],
             [
              0.4444444444444444,
              "#bd3786"
             ],
             [
              0.5555555555555556,
              "#d8576b"
             ],
             [
              0.6666666666666666,
              "#ed7953"
             ],
             [
              0.7777777777777778,
              "#fb9f3a"
             ],
             [
              0.8888888888888888,
              "#fdca26"
             ],
             [
              1,
              "#f0f921"
             ]
            ],
            "type": "heatmap"
           }
          ],
          "heatmapgl": [
           {
            "colorbar": {
             "outlinewidth": 0,
             "ticks": ""
            },
            "colorscale": [
             [
              0,
              "#0d0887"
             ],
             [
              0.1111111111111111,
              "#46039f"
             ],
             [
              0.2222222222222222,
              "#7201a8"
             ],
             [
              0.3333333333333333,
              "#9c179e"
             ],
             [
              0.4444444444444444,
              "#bd3786"
             ],
             [
              0.5555555555555556,
              "#d8576b"
             ],
             [
              0.6666666666666666,
              "#ed7953"
             ],
             [
              0.7777777777777778,
              "#fb9f3a"
             ],
             [
              0.8888888888888888,
              "#fdca26"
             ],
             [
              1,
              "#f0f921"
             ]
            ],
            "type": "heatmapgl"
           }
          ],
          "histogram": [
           {
            "marker": {
             "pattern": {
              "fillmode": "overlay",
              "size": 10,
              "solidity": 0.2
             }
            },
            "type": "histogram"
           }
          ],
          "histogram2d": [
           {
            "colorbar": {
             "outlinewidth": 0,
             "ticks": ""
            },
            "colorscale": [
             [
              0,
              "#0d0887"
             ],
             [
              0.1111111111111111,
              "#46039f"
             ],
             [
              0.2222222222222222,
              "#7201a8"
             ],
             [
              0.3333333333333333,
              "#9c179e"
             ],
             [
              0.4444444444444444,
              "#bd3786"
             ],
             [
              0.5555555555555556,
              "#d8576b"
             ],
             [
              0.6666666666666666,
              "#ed7953"
             ],
             [
              0.7777777777777778,
              "#fb9f3a"
             ],
             [
              0.8888888888888888,
              "#fdca26"
             ],
             [
              1,
              "#f0f921"
             ]
            ],
            "type": "histogram2d"
           }
          ],
          "histogram2dcontour": [
           {
            "colorbar": {
             "outlinewidth": 0,
             "ticks": ""
            },
            "colorscale": [
             [
              0,
              "#0d0887"
             ],
             [
              0.1111111111111111,
              "#46039f"
             ],
             [
              0.2222222222222222,
              "#7201a8"
             ],
             [
              0.3333333333333333,
              "#9c179e"
             ],
             [
              0.4444444444444444,
              "#bd3786"
             ],
             [
              0.5555555555555556,
              "#d8576b"
             ],
             [
              0.6666666666666666,
              "#ed7953"
             ],
             [
              0.7777777777777778,
              "#fb9f3a"
             ],
             [
              0.8888888888888888,
              "#fdca26"
             ],
             [
              1,
              "#f0f921"
             ]
            ],
            "type": "histogram2dcontour"
           }
          ],
          "mesh3d": [
           {
            "colorbar": {
             "outlinewidth": 0,
             "ticks": ""
            },
            "type": "mesh3d"
           }
          ],
          "parcoords": [
           {
            "line": {
             "colorbar": {
              "outlinewidth": 0,
              "ticks": ""
             }
            },
            "type": "parcoords"
           }
          ],
          "pie": [
           {
            "automargin": true,
            "type": "pie"
           }
          ],
          "scatter": [
           {
            "fillpattern": {
             "fillmode": "overlay",
             "size": 10,
             "solidity": 0.2
            },
            "type": "scatter"
           }
          ],
          "scatter3d": [
           {
            "line": {
             "colorbar": {
              "outlinewidth": 0,
              "ticks": ""
             }
            },
            "marker": {
             "colorbar": {
              "outlinewidth": 0,
              "ticks": ""
             }
            },
            "type": "scatter3d"
           }
          ],
          "scattercarpet": [
           {
            "marker": {
             "colorbar": {
              "outlinewidth": 0,
              "ticks": ""
             }
            },
            "type": "scattercarpet"
           }
          ],
          "scattergeo": [
           {
            "marker": {
             "colorbar": {
              "outlinewidth": 0,
              "ticks": ""
             }
            },
            "type": "scattergeo"
           }
          ],
          "scattergl": [
           {
            "marker": {
             "colorbar": {
              "outlinewidth": 0,
              "ticks": ""
             }
            },
            "type": "scattergl"
           }
          ],
          "scattermapbox": [
           {
            "marker": {
             "colorbar": {
              "outlinewidth": 0,
              "ticks": ""
             }
            },
            "type": "scattermapbox"
           }
          ],
          "scatterpolar": [
           {
            "marker": {
             "colorbar": {
              "outlinewidth": 0,
              "ticks": ""
             }
            },
            "type": "scatterpolar"
           }
          ],
          "scatterpolargl": [
           {
            "marker": {
             "colorbar": {
              "outlinewidth": 0,
              "ticks": ""
             }
            },
            "type": "scatterpolargl"
           }
          ],
          "scatterternary": [
           {
            "marker": {
             "colorbar": {
              "outlinewidth": 0,
              "ticks": ""
             }
            },
            "type": "scatterternary"
           }
          ],
          "surface": [
           {
            "colorbar": {
             "outlinewidth": 0,
             "ticks": ""
            },
            "colorscale": [
             [
              0,
              "#0d0887"
             ],
             [
              0.1111111111111111,
              "#46039f"
             ],
             [
              0.2222222222222222,
              "#7201a8"
             ],
             [
              0.3333333333333333,
              "#9c179e"
             ],
             [
              0.4444444444444444,
              "#bd3786"
             ],
             [
              0.5555555555555556,
              "#d8576b"
             ],
             [
              0.6666666666666666,
              "#ed7953"
             ],
             [
              0.7777777777777778,
              "#fb9f3a"
             ],
             [
              0.8888888888888888,
              "#fdca26"
             ],
             [
              1,
              "#f0f921"
             ]
            ],
            "type": "surface"
           }
          ],
          "table": [
           {
            "cells": {
             "fill": {
              "color": "#EBF0F8"
             },
             "line": {
              "color": "white"
             }
            },
            "header": {
             "fill": {
              "color": "#C8D4E3"
             },
             "line": {
              "color": "white"
             }
            },
            "type": "table"
           }
          ]
         },
         "layout": {
          "annotationdefaults": {
           "arrowcolor": "#2a3f5f",
           "arrowhead": 0,
           "arrowwidth": 1
          },
          "autotypenumbers": "strict",
          "coloraxis": {
           "colorbar": {
            "outlinewidth": 0,
            "ticks": ""
           }
          },
          "colorscale": {
           "diverging": [
            [
             0,
             "#8e0152"
            ],
            [
             0.1,
             "#c51b7d"
            ],
            [
             0.2,
             "#de77ae"
            ],
            [
             0.3,
             "#f1b6da"
            ],
            [
             0.4,
             "#fde0ef"
            ],
            [
             0.5,
             "#f7f7f7"
            ],
            [
             0.6,
             "#e6f5d0"
            ],
            [
             0.7,
             "#b8e186"
            ],
            [
             0.8,
             "#7fbc41"
            ],
            [
             0.9,
             "#4d9221"
            ],
            [
             1,
             "#276419"
            ]
           ],
           "sequential": [
            [
             0,
             "#0d0887"
            ],
            [
             0.1111111111111111,
             "#46039f"
            ],
            [
             0.2222222222222222,
             "#7201a8"
            ],
            [
             0.3333333333333333,
             "#9c179e"
            ],
            [
             0.4444444444444444,
             "#bd3786"
            ],
            [
             0.5555555555555556,
             "#d8576b"
            ],
            [
             0.6666666666666666,
             "#ed7953"
            ],
            [
             0.7777777777777778,
             "#fb9f3a"
            ],
            [
             0.8888888888888888,
             "#fdca26"
            ],
            [
             1,
             "#f0f921"
            ]
           ],
           "sequentialminus": [
            [
             0,
             "#0d0887"
            ],
            [
             0.1111111111111111,
             "#46039f"
            ],
            [
             0.2222222222222222,
             "#7201a8"
            ],
            [
             0.3333333333333333,
             "#9c179e"
            ],
            [
             0.4444444444444444,
             "#bd3786"
            ],
            [
             0.5555555555555556,
             "#d8576b"
            ],
            [
             0.6666666666666666,
             "#ed7953"
            ],
            [
             0.7777777777777778,
             "#fb9f3a"
            ],
            [
             0.8888888888888888,
             "#fdca26"
            ],
            [
             1,
             "#f0f921"
            ]
           ]
          },
          "colorway": [
           "#636efa",
           "#EF553B",
           "#00cc96",
           "#ab63fa",
           "#FFA15A",
           "#19d3f3",
           "#FF6692",
           "#B6E880",
           "#FF97FF",
           "#FECB52"
          ],
          "font": {
           "color": "#2a3f5f"
          },
          "geo": {
           "bgcolor": "white",
           "lakecolor": "white",
           "landcolor": "white",
           "showlakes": true,
           "showland": true,
           "subunitcolor": "#C8D4E3"
          },
          "hoverlabel": {
           "align": "left"
          },
          "hovermode": "closest",
          "mapbox": {
           "style": "light"
          },
          "paper_bgcolor": "white",
          "plot_bgcolor": "white",
          "polar": {
           "angularaxis": {
            "gridcolor": "#EBF0F8",
            "linecolor": "#EBF0F8",
            "ticks": ""
           },
           "bgcolor": "white",
           "radialaxis": {
            "gridcolor": "#EBF0F8",
            "linecolor": "#EBF0F8",
            "ticks": ""
           }
          },
          "scene": {
           "xaxis": {
            "backgroundcolor": "white",
            "gridcolor": "#DFE8F3",
            "gridwidth": 2,
            "linecolor": "#EBF0F8",
            "showbackground": true,
            "ticks": "",
            "zerolinecolor": "#EBF0F8"
           },
           "yaxis": {
            "backgroundcolor": "white",
            "gridcolor": "#DFE8F3",
            "gridwidth": 2,
            "linecolor": "#EBF0F8",
            "showbackground": true,
            "ticks": "",
            "zerolinecolor": "#EBF0F8"
           },
           "zaxis": {
            "backgroundcolor": "white",
            "gridcolor": "#DFE8F3",
            "gridwidth": 2,
            "linecolor": "#EBF0F8",
            "showbackground": true,
            "ticks": "",
            "zerolinecolor": "#EBF0F8"
           }
          },
          "shapedefaults": {
           "line": {
            "color": "#2a3f5f"
           }
          },
          "ternary": {
           "aaxis": {
            "gridcolor": "#DFE8F3",
            "linecolor": "#A2B1C6",
            "ticks": ""
           },
           "baxis": {
            "gridcolor": "#DFE8F3",
            "linecolor": "#A2B1C6",
            "ticks": ""
           },
           "bgcolor": "white",
           "caxis": {
            "gridcolor": "#DFE8F3",
            "linecolor": "#A2B1C6",
            "ticks": ""
           }
          },
          "title": {
           "x": 0.05
          },
          "xaxis": {
           "automargin": true,
           "gridcolor": "#EBF0F8",
           "linecolor": "#EBF0F8",
           "ticks": "",
           "title": {
            "standoff": 15
           },
           "zerolinecolor": "#EBF0F8",
           "zerolinewidth": 2
          },
          "yaxis": {
           "automargin": true,
           "gridcolor": "#EBF0F8",
           "linecolor": "#EBF0F8",
           "ticks": "",
           "title": {
            "standoff": 15
           },
           "zerolinecolor": "#EBF0F8",
           "zerolinewidth": 2
          }
         }
        },
        "title": {
         "text": "Model Performance Metrics"
        },
        "xaxis": {
         "autorange": true,
         "range": [
          -0.5,
          3.5
         ],
         "title": {
          "text": "Metric"
         },
         "type": "category"
        },
        "yaxis": {
         "autorange": true,
         "range": [
          0,
          1.0268562567005892
         ],
         "title": {
          "text": "Score"
         },
         "type": "linear"
        }
       }
      },
      "image/png": "[encoded data removed]",
      "text/html": [
       "<div>                            <div id=\"19b9f618-3643-47c3-a770-7cd4a8fad80d\" class=\"plotly-graph-div\" style=\"height:525px; width:100%;\"></div>            <script type=\"text/javascript\">                require([\"plotly\"], function(Plotly) {                    window.PLOTLYENV=window.PLOTLYENV || {};                                    if (document.getElementById(\"19b9f618-3643-47c3-a770-7cd4a8fad80d\")) {                    Plotly.newPlot(                        \"19b9f618-3643-47c3-a770-7cd4a8fad80d\",                        [{\"marker\":{\"color\":[\"#636EFA\",\"#EF553B\",\"#00CC96\",\"#AB63FA\"]},\"text\":[\"0.1138\",\"0.0771\",\"0.2776\",\"0.9755\"],\"textposition\":\"auto\",\"x\":[\"Mean Absolute Error (MAE)\",\"Mean Squared Error (MSE)\",\"Root Mean Squared Error (RMSE)\",\"R² Score\"],\"y\":[0.11377699868722861,0.07707143543315034,0.27761742638593556,0.9755134438655598],\"type\":\"bar\"}],                        {\"template\":{\"data\":{\"barpolar\":[{\"marker\":{\"line\":{\"color\":\"white\",\"width\":0.5},\"pattern\":{\"fillmode\":\"overlay\",\"size\":10,\"solidity\":0.2}},\"type\":\"barpolar\"}],\"bar\":[{\"error_x\":{\"color\":\"#2a3f5f\"},\"error_y\":{\"color\":\"#2a3f5f\"},\"marker\":{\"line\":{\"color\":\"white\",\"width\":0.5},\"pattern\":{\"fillmode\":\"overlay\",\"size\":10,\"solidity\":0.2}},\"type\":\"bar\"}],\"carpet\":[{\"aaxis\":{\"endlinecolor\":\"#2a3f5f\",\"gridcolor\":\"#C8D4E3\",\"linecolor\":\"#C8D4E3\",\"minorgridcolor\":\"#C8D4E3\",\"startlinecolor\":\"#2a3f5f\"},\"baxis\":{\"endlinecolor\":\"#2a3f5f\",\"gridcolor\":\"#C8D4E3\",\"linecolor\":\"#C8D4E3\",\"minorgridcolor\":\"#C8D4E3\",\"startlinecolor\":\"#2a3f5f\"},\"type\":\"carpet\"}],\"choropleth\":[{\"colorbar\":{\"outlinewidth\":0,\"ticks\":\"\"},\"type\":\"choropleth\"}],\"contourcarpet\":[{\"colorbar\":{\"outlinewidth\":0,\"ticks\":\"\"},\"type\":\"contourcarpet\"}],\"contour\":[{\"colorbar\":{\"outlinewidth\":0,\"ticks\":\"\"},\"colorscale\":[[0.0,\"#0d0887\"],[0.1111111111111111,\"#46039f\"],[0.2222222222222222,\"#7201a8\"],[0.3333333333333333,\"#9c179e\"],[0.4444444444444444,\"#bd3786\"],[0.5555555555555556,\"#d8576b\"],[0.6666666666666666,\"#ed7953\"],[0.7777777777777778,\"#fb9f3a\"],[0.8888888888888888,\"#fdca26\"],[1.0,\"#f0f921\"]],\"type\":\"contour\"}],\"heatmapgl\":[{\"colorbar\":{\"outlinewidth\":0,\"ticks\":\"\"},\"colorscale\":[[0.0,\"#0d0887\"],[0.1111111111111111,\"#46039f\"],[0.2222222222222222,\"#7201a8\"],[0.3333333333333333,\"#9c179e\"],[0.4444444444444444,\"#bd3786\"],[0.5555555555555556,\"#d8576b\"],[0.6666666666666666,\"#ed7953\"],[0.7777777777777778,\"#fb9f3a\"],[0.8888888888888888,\"#fdca26\"],[1.0,\"#f0f921\"]],\"type\":\"heatmapgl\"}],\"heatmap\":[{\"colorbar\":{\"outlinewidth\":0,\"ticks\":\"\"},\"colorscale\":[[0.0,\"#0d0887\"],[0.1111111111111111,\"#46039f\"],[0.2222222222222222,\"#7201a8\"],[0.3333333333333333,\"#9c179e\"],[0.4444444444444444,\"#bd3786\"],[0.5555555555555556,\"#d8576b\"],[0.6666666666666666,\"#ed7953\"],[0.7777777777777778,\"#fb9f3a\"],[0.8888888888888888,\"#fdca26\"],[1.0,\"#f0f921\"]],\"type\":\"heatmap\"}],\"histogram2dcontour\":[{\"colorbar\":{\"outlinewidth\":0,\"ticks\":\"\"},\"colorscale\":[[0.0,\"#0d0887\"],[0.1111111111111111,\"#46039f\"],[0.2222222222222222,\"#7201a8\"],[0.3333333333333333,\"#9c179e\"],[0.4444444444444444,\"#bd3786\"],[0.5555555555555556,\"#d8576b\"],[0.6666666666666666,\"#ed7953\"],[0.7777777777777778,\"#fb9f3a\"],[0.8888888888888888,\"#fdca26\"],[1.0,\"#f0f921\"]],\"type\":\"histogram2dcontour\"}],\"histogram2d\":[{\"colorbar\":{\"outlinewidth\":0,\"ticks\":\"\"},\"colorscale\":[[0.0,\"#0d0887\"],[0.1111111111111111,\"#46039f\"],[0.2222222222222222,\"#7201a8\"],[0.3333333333333333,\"#9c179e\"],[0.4444444444444444,\"#bd3786\"],[0.5555555555555556,\"#d8576b\"],[0.6666666666666666,\"#ed7953\"],[0.7777777777777778,\"#fb9f3a\"],[0.8888888888888888,\"#fdca26\"],[1.0,\"#f0f921\"]],\"type\":\"histogram2d\"}],\"histogram\":[{\"marker\":{\"pattern\":{\"fillmode\":\"overlay\",\"size\":10,\"solidity\":0.2}},\"type\":\"histogram\"}],\"mesh3d\":[{\"colorbar\":{\"outlinewidth\":0,\"ticks\":\"\"},\"type\":\"mesh3d\"}],\"parcoords\":[{\"line\":{\"colorbar\":{\"outlinewidth\":0,\"ticks\":\"\"}},\"type\":\"parcoords\"}],\"pie\":[{\"automargin\":true,\"type\":\"pie\"}],\"scatter3d\":[{\"line\":{\"colorbar\":{\"outlinewidth\":0,\"ticks\":\"\"}},\"marker\":{\"colorbar\":{\"outlinewidth\":0,\"ticks\":\"\"}},\"type\":\"scatter3d\"}],\"scattercarpet\":[{\"marker\":{\"colorbar\":{\"outlinewidth\":0,\"ticks\":\"\"}},\"type\":\"scattercarpet\"}],\"scattergeo\":[{\"marker\":{\"colorbar\":{\"outlinewidth\":0,\"ticks\":\"\"}},\"type\":\"scattergeo\"}],\"scattergl\":[{\"marker\":{\"colorbar\":{\"outlinewidth\":0,\"ticks\":\"\"}},\"type\":\"scattergl\"}],\"scattermapbox\":[{\"marker\":{\"colorbar\":{\"outlinewidth\":0,\"ticks\":\"\"}},\"type\":\"scattermapbox\"}],\"scatterpolargl\":[{\"marker\":{\"colorbar\":{\"outlinewidth\":0,\"ticks\":\"\"}},\"type\":\"scatterpolargl\"}],\"scatterpolar\":[{\"marker\":{\"colorbar\":{\"outlinewidth\":0,\"ticks\":\"\"}},\"type\":\"scatterpolar\"}],\"scatter\":[{\"fillpattern\":{\"fillmode\":\"overlay\",\"size\":10,\"solidity\":0.2},\"type\":\"scatter\"}],\"scatterternary\":[{\"marker\":{\"colorbar\":{\"outlinewidth\":0,\"ticks\":\"\"}},\"type\":\"scatterternary\"}],\"surface\":[{\"colorbar\":{\"outlinewidth\":0,\"ticks\":\"\"},\"colorscale\":[[0.0,\"#0d0887\"],[0.1111111111111111,\"#46039f\"],[0.2222222222222222,\"#7201a8\"],[0.3333333333333333,\"#9c179e\"],[0.4444444444444444,\"#bd3786\"],[0.5555555555555556,\"#d8576b\"],[0.6666666666666666,\"#ed7953\"],[0.7777777777777778,\"#fb9f3a\"],[0.8888888888888888,\"#fdca26\"],[1.0,\"#f0f921\"]],\"type\":\"surface\"}],\"table\":[{\"cells\":{\"fill\":{\"color\":\"#EBF0F8\"},\"line\":{\"color\":\"white\"}},\"header\":{\"fill\":{\"color\":\"#C8D4E3\"},\"line\":{\"color\":\"white\"}},\"type\":\"table\"}]},\"layout\":{\"annotationdefaults\":{\"arrowcolor\":\"#2a3f5f\",\"arrowhead\":0,\"arrowwidth\":1},\"autotypenumbers\":\"strict\",\"coloraxis\":{\"colorbar\":{\"outlinewidth\":0,\"ticks\":\"\"}},\"colorscale\":{\"diverging\":[[0,\"#8e0152\"],[0.1,\"#c51b7d\"],[0.2,\"#de77ae\"],[0.3,\"#f1b6da\"],[0.4,\"#fde0ef\"],[0.5,\"#f7f7f7\"],[0.6,\"#e6f5d0\"],[0.7,\"#b8e186\"],[0.8,\"#7fbc41\"],[0.9,\"#4d9221\"],[1,\"#276419\"]],\"sequential\":[[0.0,\"#0d0887\"],[0.1111111111111111,\"#46039f\"],[0.2222222222222222,\"#7201a8\"],[0.3333333333333333,\"#9c179e\"],[0.4444444444444444,\"#bd3786\"],[0.5555555555555556,\"#d8576b\"],[0.6666666666666666,\"#ed7953\"],[0.7777777777777778,\"#fb9f3a\"],[0.8888888888888888,\"#fdca26\"],[1.0,\"#f0f921\"]],\"sequentialminus\":[[0.0,\"#0d0887\"],[0.1111111111111111,\"#46039f\"],[0.2222222222222222,\"#7201a8\"],[0.3333333333333333,\"#9c179e\"],[0.4444444444444444,\"#bd3786\"],[0.5555555555555556,\"#d8576b\"],[0.6666666666666666,\"#ed7953\"],[0.7777777777777778,\"#fb9f3a\"],[0.8888888888888888,\"#fdca26\"],[1.0,\"#f0f921\"]]},\"colorway\":[\"#636efa\",\"#EF553B\",\"#00cc96\",\"#ab63fa\",\"#FFA15A\",\"#19d3f3\",\"#FF6692\",\"#B6E880\",\"#FF97FF\",\"#FECB52\"],\"font\":{\"color\":\"#2a3f5f\"},\"geo\":{\"bgcolor\":\"white\",\"lakecolor\":\"white\",\"landcolor\":\"white\",\"showlakes\":true,\"showland\":true,\"subunitcolor\":\"#C8D4E3\"},\"hoverlabel\":{\"align\":\"left\"},\"hovermode\":\"closest\",\"mapbox\":{\"style\":\"light\"},\"paper_bgcolor\":\"white\",\"plot_bgcolor\":\"white\",\"polar\":{\"angularaxis\":{\"gridcolor\":\"#EBF0F8\",\"linecolor\":\"#EBF0F8\",\"ticks\":\"\"},\"bgcolor\":\"white\",\"radialaxis\":{\"gridcolor\":\"#EBF0F8\",\"linecolor\":\"#EBF0F8\",\"ticks\":\"\"}},\"scene\":{\"xaxis\":{\"backgroundcolor\":\"white\",\"gridcolor\":\"#DFE8F3\",\"gridwidth\":2,\"linecolor\":\"#EBF0F8\",\"showbackground\":true,\"ticks\":\"\",\"zerolinecolor\":\"#EBF0F8\"},\"yaxis\":{\"backgroundcolor\":\"white\",\"gridcolor\":\"#DFE8F3\",\"gridwidth\":2,\"linecolor\":\"#EBF0F8\",\"showbackground\":true,\"ticks\":\"\",\"zerolinecolor\":\"#EBF0F8\"},\"zaxis\":{\"backgroundcolor\":\"white\",\"gridcolor\":\"#DFE8F3\",\"gridwidth\":2,\"linecolor\":\"#EBF0F8\",\"showbackground\":true,\"ticks\":\"\",\"zerolinecolor\":\"#EBF0F8\"}},\"shapedefaults\":{\"line\":{\"color\":\"#2a3f5f\"}},\"ternary\":{\"aaxis\":{\"gridcolor\":\"#DFE8F3\",\"linecolor\":\"#A2B1C6\",\"ticks\":\"\"},\"baxis\":{\"gridcolor\":\"#DFE8F3\",\"linecolor\":\"#A2B1C6\",\"ticks\":\"\"},\"bgcolor\":\"white\",\"caxis\":{\"gridcolor\":\"#DFE8F3\",\"linecolor\":\"#A2B1C6\",\"ticks\":\"\"}},\"title\":{\"x\":0.05},\"xaxis\":{\"automargin\":true,\"gridcolor\":\"#EBF0F8\",\"linecolor\":\"#EBF0F8\",\"ticks\":\"\",\"title\":{\"standoff\":15},\"zerolinecolor\":\"#EBF0F8\",\"zerolinewidth\":2},\"yaxis\":{\"automargin\":true,\"gridcolor\":\"#EBF0F8\",\"linecolor\":\"#EBF0F8\",\"ticks\":\"\",\"title\":{\"standoff\":15},\"zerolinecolor\":\"#EBF0F8\",\"zerolinewidth\":2}}},\"title\":{\"text\":\"Model Performance Metrics\"},\"xaxis\":{\"title\":{\"text\":\"Metric\"}},\"yaxis\":{\"title\":{\"text\":\"Score\"}}},                        {\"responsive\": true}                    ).then(function(){\n",
       "                            \n",
       "var gd = document.getElementById('19b9f618-3643-47c3-a770-7cd4a8fad80d');\n",
       "var x = new MutationObserver(function (mutations, observer) {{\n",
       "        var display = window.getComputedStyle(gd).display;\n",
       "        if (!display || display === 'none') {{\n",
       "            console.log([gd, 'removed!']);\n",
       "            Plotly.purge(gd);\n",
       "            observer.disconnect();\n",
       "        }}\n",
       "}});\n",
       "\n",
       "// Listen for the removal of the full notebook cells\n",
       "var notebookContainer = gd.closest('#notebook-container');\n",
       "if (notebookContainer) {{\n",
       "    x.observe(notebookContainer, {childList: true});\n",
       "}}\n",
       "\n",
       "// Listen for the clearing of the current output cell\n",
       "var outputEl = gd.closest('.output');\n",
       "if (outputEl) {{\n",
       "    x.observe(outputEl, {childList: true});\n",
       "}}\n",
       "\n",
       "                        })                };                });            </script>        </div>"
      ]
     },
     "metadata": {},
     "output_type": "display_data"
    }
   ],
   "source": [
    "import plotly.graph_objects as go\n",
    "\n",
    "# Model performance metrics\n",
    "metrics = {\n",
    "    'Mean Absolute Error (MAE)': mae,\n",
    "    'Mean Squared Error (MSE)': mse,\n",
    "    'Root Mean Squared Error (RMSE)': rmse,\n",
    "    'R² Score': r2\n",
    "}\n",
    "\n",
    "# Creating an interactive bar chart\n",
    "fig = go.Figure(data=[\n",
    "    go.Bar(\n",
    "        x=list(metrics.keys()),\n",
    "        y=list(metrics.values()),\n",
    "        text=[f\"{metric:.4f}\" for metric in metrics.values()],\n",
    "        textposition='auto',\n",
    "        marker_color=['#636EFA', '#EF553B', '#00CC96', '#AB63FA']\n",
    "    )\n",
    "])\n",
    "\n",
    "# Adding titles and formatting\n",
    "fig.update_layout(\n",
    "    title=\"Model Performance Metrics\",\n",
    "    xaxis_title=\"Metric\",\n",
    "    yaxis_title=\"Score\",\n",
    "    template=\"plotly_white\"\n",
    ")\n",
    "\n",
    "# Show plot\n",
    "fig.show()\n"
   ]
  },
  {
   "cell_type": "code",
   "execution_count": 108,
   "id": "75ee2864-20b1-4921-94e2-e80093a6e9f9",
   "metadata": {},
   "outputs": [
    {
     "name": "stdout",
     "output_type": "stream",
     "text": [
      "\n",
      "Example Prediction:\n",
      "Making prediction for first test sample...\n",
      "Predicted Sleep Quality: 5.85\n",
      "Actual Sleep Quality: 6\n"
     ]
    }
   ],
   "source": [
    "# Print example prediction\n",
    "print(\"\\nExample Prediction:\")\n",
    "print(\"Making prediction for first test sample...\")\n",
    "example_pred = model.predict(X_test_scaled.iloc[[0]])\n",
    "actual_value = y_test.iloc[0]\n",
    "print(f\"Predicted Sleep Quality: {example_pred[0]:.2f}\")\n",
    "print(f\"Actual Sleep Quality: {actual_value}\")"
   ]
  },
  {
   "cell_type": "code",
   "execution_count": null,
   "id": "5e410785-8486-4f2e-b0ff-c1c2dc1c8d00",
   "metadata": {},
   "outputs": [],
   "source": []
  }
 ],
 "metadata": {
  "kernelspec": {
   "display_name": "Python 3 (ipykernel)",
   "language": "python",
   "name": "python3"
  },
  "language_info": {
   "codemirror_mode": {
    "name": "ipython",
    "version": 3
   },
   "file_extension": ".py",
   "mimetype": "text/x-python",
   "name": "python",
   "nbconvert_exporter": "python",
   "pygments_lexer": "ipython3",
   "version": "3.12.4"
  }
 },
 "nbformat": 4,
 "nbformat_minor": 5
}
